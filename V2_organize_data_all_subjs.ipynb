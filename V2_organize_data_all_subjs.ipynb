{
 "cells": [
  {
   "cell_type": "code",
   "execution_count": 1,
   "metadata": {},
   "outputs": [],
   "source": [
    "%matplotlib inline\n",
    "import matplotlib\n",
    "import matplotlib.pyplot as plt\n",
    "import PyQt5\n",
    "import mne\n",
    "import pickle\n",
    "\n",
    "import numpy as np\n",
    "import scipy\n",
    "from scipy.cluster.vq import kmeans as kmeans\n",
    "import scipy.stats as stats"
   ]
  },
  {
   "cell_type": "code",
   "execution_count": 2,
   "metadata": {},
   "outputs": [],
   "source": [
    "edf_struct = {}\n",
    "\n",
    "#---------------------------------------------------------------------------#\n",
    "edf_struct[0] = {}\n",
    "edf_struct[0]['subject'] = 0\n",
    "edf_struct[0]['filename']='/Volumes/Elements/normaliser_edf_data/14_04_16.edf'\n",
    "edf_struct[0]['start']=142000\n",
    "edf_struct[0]['end']=350000\n",
    "edf_struct[0]['ttl']=120\n",
    "edf_struct[0]['session']=0\n",
    "\n",
    "edf_struct[1] = {}\n",
    "edf_struct[1]['subject'] = 0\n",
    "edf_struct[1]['filename']='/Volumes/Elements/normaliser_edf_data/18_04_16.edf'\n",
    "edf_struct[1]['start']=350000\n",
    "edf_struct[1]['end']=560000\n",
    "edf_struct[1]['ttl']=120\n",
    "edf_struct[1]['session']=1\n",
    "\n",
    "edf_struct[2] = {}\n",
    "edf_struct[2]['subject'] = 0\n",
    "edf_struct[2]['filename']='/Volumes/Elements/normaliser_edf_data/20_04_16.edf'\n",
    "edf_struct[2]['start']=955000#950000\n",
    "edf_struct[2]['end']=1155000\n",
    "edf_struct[2]['ttl']=120\n",
    "edf_struct[2]['session']=2\n",
    "\n",
    "#---------------------------------------------------------------------------#\n",
    "edf_struct[3] = {}\n",
    "edf_struct[3]['subject'] = 1\n",
    "edf_struct[3]['filename']='/Volumes/Elements/normaliser_edf_data/030416.edf'\n",
    "edf_struct[3]['start']=2305000#2300000\n",
    "edf_struct[3]['end']=2520000\n",
    "edf_struct[3]['ttl']=125\n",
    "edf_struct[3]['session']=0\n",
    "\n",
    "edf_struct[4] = {}\n",
    "edf_struct[4]['subject'] = 1\n",
    "edf_struct[4]['filename']='/Volumes/Elements/normaliser_edf_data/040416.edf'\n",
    "edf_struct[4]['start']=50000\n",
    "edf_struct[4]['end']=255000\n",
    "edf_struct[4]['ttl']=125\n",
    "edf_struct[4]['session']=1\n",
    "\n",
    "#---------------------------------------------------------------------------#\n",
    "edf_struct[5] = {}\n",
    "edf_struct[5]['subject'] = 2\n",
    "edf_struct[5]['filename']='/Volumes/Elements/normaliser_edf_data/eugeni_090716.edf'\n",
    "edf_struct[5]['start']=151000\n",
    "edf_struct[5]['end']=342000\n",
    "edf_struct[5]['ttl']=123\n",
    "edf_struct[5]['session']=0\n",
    "\n",
    "edf_struct[6] = {}\n",
    "edf_struct[6]['subject'] = 2\n",
    "edf_struct[6]['filename']='/Volumes/Elements/normaliser_edf_data/eugeni_110716.edf'\n",
    "edf_struct[6]['start']=153000\n",
    "edf_struct[6]['end']=363000\n",
    "edf_struct[6]['ttl']=123\n",
    "edf_struct[6]['session']=1\n",
    "\n",
    "edf_struct[7] = {}\n",
    "edf_struct[7]['subject'] = 2\n",
    "edf_struct[7]['filename']='/Volumes/Elements/normaliser_edf_data/eugeni_120716.edf'\n",
    "edf_struct[7]['start']=40000\n",
    "edf_struct[7]['end']=250000\n",
    "edf_struct[7]['ttl']=123\n",
    "edf_struct[7]['session']=2\n",
    "\n",
    "#---------------------------------------------------------------------------#\n",
    "\n",
    "edf_struct[8] = {}\n",
    "edf_struct[8]['subject'] = 3\n",
    "edf_struct[8]['filename']='/Volumes/Elements/normaliser_edf_data/Ines_250716.edf'\n",
    "edf_struct[8]['start']=510000\n",
    "edf_struct[8]['end']=730000\n",
    "edf_struct[8]['ttl']=126\n",
    "edf_struct[8]['session']=0\n",
    "\n",
    "#---------------------------------------------------------------------------#\n",
    "# here starts the ones with speed changes within the trial\n",
    "#---------------------------------------------------------------------------#\n",
    "\n",
    "edf_struct[9] = {}\n",
    "edf_struct[9]['subject'] = 4\n",
    "edf_struct[9]['filename']='/Volumes/Elements/normaliser_edf_data/200516.edf'\n",
    "edf_struct[9]['start']=17008004\n",
    "edf_struct[9]['end']=18031047\n",
    "edf_struct[9]['ttl']=222\n",
    "edf_struct[9]['session']=0\n",
    "\n",
    "#---------------------------------------------------------------------------#\n",
    "\n",
    "# edf_struct[12] = {}\n",
    "# edf_struct[12]['subject'] = 6\n",
    "# edf_struct[12]['filename']='/Volumes/Elements/normaliser_edf_data/200516.edf'\n",
    "# edf_struct[12]['start']=17008004\n",
    "# edf_struct[12]['end']=18031047\n",
    "# edf_struct[12]['ttl']=222\n",
    "# edf_struct[12]['session']=0\n",
    "\n"
   ]
  },
  {
   "cell_type": "code",
   "execution_count": 3,
   "metadata": {},
   "outputs": [],
   "source": [
    "density = np.tile( np.repeat( np.arange(3), 3 ),3)\n",
    "speed   = np.tile( np.arange(3), 9 )\n",
    "dur     = np.tile( np.array([ 18.1, 13.5, 11]), 3).reshape(3,3).T\n",
    "dd      = np.tile(np.array([50,100,150]),3).reshape(3,3)\n",
    "K_i     = dd/dur\n",
    "unii    = K_i[speed,density]\n",
    "K_i_idx = (  np.tile(np.arange(3),3), np.repeat(np.arange(3),3)  )"
   ]
  },
  {
   "cell_type": "code",
   "execution_count": 4,
   "metadata": {},
   "outputs": [],
   "source": [
    "study_info = {}\n",
    "#  this dictionary will contain information regarding the data, channels and experimental markers"
   ]
  },
  {
   "cell_type": "code",
   "execution_count": 5,
   "metadata": {},
   "outputs": [
    {
     "name": "stdout",
     "output_type": "stream",
     "text": [
      "Extracting EDF parameters from /Volumes/Elements/normaliser_edf_data/14_04_16.edf...\n",
      "EDF file detected\n",
      "Setting channel info structure...\n",
      "Creating raw.info structure...\n",
      "Setting up band-stop filter\n",
      "Filter length of 3301 samples (6.602 sec) selected\n",
      "27\n",
      "Writing /Users/diogo/Desktop/Normaliser_2019/data_all/sub_0_session_0_raw.fif\n",
      "Closing /Users/diogo/Desktop/Normaliser_2019/data_all/sub_0_session_0_raw.fif [done]\n"
     ]
    },
    {
     "data": {
      "image/png": "[encoded data removed]",
      "text/plain": [
       "<Figure size 432x288 with 1 Axes>"
      ]
     },
     "metadata": {
      "needs_background": "light"
     },
     "output_type": "display_data"
    }
   ],
   "source": [
    "ii = 0\n",
    "\n",
    "filename = edf_struct[ii]['filename']\n",
    "raw = mne.io.read_raw_edf(filename, preload=False)\n",
    "\n",
    "\n",
    "raw_data = raw.get_data(picks=[edf_struct[ii]['ttl']], start=edf_struct[ii]['start'] , stop=edf_struct[ii]['end'])\n",
    "raw_data = raw_data[0]\n",
    "raw_data = mne.filter.notch_filter(raw_data, raw.info['sfreq'], [50,100,150,200], notch_widths=2)\n",
    "\n",
    "\n",
    "\n",
    "idx_ttl = np.where( stats.zscore(np.abs(np.diff(raw_data))) > 5 )[0]\n",
    "idx_ttl_2 = np.where(np.diff(idx_ttl)>1000)[0]\n",
    "final_idx = np.copy(idx_ttl[idx_ttl_2])\n",
    "\n",
    "if final_idx.size == 26:\n",
    "    final_idx = np.append(final_idx , final_idx[-1]+np.min(np.diff(final_idx)))\n",
    "    print(final_idx.size)\n",
    "\n",
    "plt.plot( raw_data )\n",
    "plt.plot(   final_idx, np.ones(final_idx.size)*np.mean(raw_data)   , 'r|', markeredgewidth=2, markersize=10)\n",
    "\n",
    "this_session_markers = np.vstack([final_idx, speed, density]).T\n",
    "\n",
    "\n",
    "\n",
    "crop_tmin = edf_struct[ii]['start'] / raw.info['sfreq'] \n",
    "crop_tmax = edf_struct[ii]['end'] / raw.info['sfreq']\n",
    "raw = raw.crop(tmin=crop_tmin, tmax=crop_tmax)\n",
    "\n",
    "save_file_name = 'data_all/sub_'+str(edf_struct[ii]['subject'])+'_session_'+str(edf_struct[ii]['session'])+'_raw.fif'\n",
    "raw.save(save_file_name)\n",
    "\n",
    "\n",
    "tmp_hpc_channels_idx = []\n",
    "tmp_hpc_channels_name = []\n",
    "for cc in range(len(raw.info['ch_names'])):\n",
    "    if raw.info['ch_names'][cc] in [\"C1\",\"C2\",\"B1\",\"B2\",\"C'1\",\"C'2\",\"B'1\",\"B'2\"]:\n",
    "        tmp_hpc_channels_idx.append(cc)\n",
    "        tmp_hpc_channels_name.append(raw.info['ch_names'][cc])\n",
    "\n",
    "        \n",
    "study_info[ii] = {}\n",
    "study_info[ii]['subject'] = edf_struct[ii]['subject']\n",
    "study_info[ii]['session'] = edf_struct[ii]['session']\n",
    "study_info[ii]['save_file_name'] = save_file_name\n",
    "study_info[ii]['tmp_hpc_channels_idx'] = tmp_hpc_channels_idx\n",
    "study_info[ii]['tmp_hpc_channels_name'] = tmp_hpc_channels_name\n",
    "study_info[ii]['trial_markers'] = this_session_markers"
   ]
  },
  {
   "cell_type": "code",
   "execution_count": 6,
   "metadata": {},
   "outputs": [
    {
     "name": "stdout",
     "output_type": "stream",
     "text": [
      "Extracting EDF parameters from /Volumes/Elements/normaliser_edf_data/18_04_16.edf...\n",
      "EDF file detected\n",
      "Setting channel info structure...\n",
      "Creating raw.info structure...\n",
      "Setting up band-stop filter\n",
      "Filter length of 3301 samples (6.602 sec) selected\n",
      "27\n",
      "Writing /Users/diogo/Desktop/Normaliser_2019/data_all/sub_0_session_1_raw.fif\n",
      "Closing /Users/diogo/Desktop/Normaliser_2019/data_all/sub_0_session_1_raw.fif [done]\n"
     ]
    },
    {
     "data": {
      "image/png": "[encoded data removed]",
      "text/plain": [
       "<Figure size 432x288 with 1 Axes>"
      ]
     },
     "metadata": {
      "needs_background": "light"
     },
     "output_type": "display_data"
    }
   ],
   "source": [
    "ii = 1\n",
    "\n",
    "filename = edf_struct[ii]['filename']\n",
    "raw = mne.io.read_raw_edf(filename, preload=False)\n",
    "\n",
    "\n",
    "raw_data = raw.get_data(picks=[edf_struct[ii]['ttl']], start=edf_struct[ii]['start'] , stop=edf_struct[ii]['end'])\n",
    "raw_data = raw_data[0]\n",
    "raw_data = mne.filter.notch_filter(raw_data, raw.info['sfreq'], [50,100,150,200], notch_widths=2)\n",
    "\n",
    "\n",
    "\n",
    "idx_ttl = np.where( stats.zscore(np.abs(np.diff(raw_data))) > 5 )[0]\n",
    "idx_ttl_2 = np.where(np.diff(idx_ttl)>1000)[0]\n",
    "final_idx = np.copy(idx_ttl[idx_ttl_2])\n",
    "\n",
    "if final_idx.size == 26:\n",
    "    final_idx = np.append(final_idx , final_idx[-1]+np.min(np.diff(final_idx)))\n",
    "    print(final_idx.size)\n",
    "\n",
    "plt.plot( raw_data )\n",
    "plt.plot(   final_idx, np.ones(final_idx.size)*np.mean(raw_data)   , 'r|', markeredgewidth=2, markersize=10)\n",
    "\n",
    "this_session_markers = np.vstack([final_idx, speed, density]).T\n",
    "\n",
    "\n",
    "\n",
    "crop_tmin = edf_struct[ii]['start'] / raw.info['sfreq'] \n",
    "crop_tmax = edf_struct[ii]['end'] / raw.info['sfreq']\n",
    "raw = raw.crop(tmin=crop_tmin, tmax=crop_tmax)\n",
    "\n",
    "save_file_name = 'data_all/sub_'+str(edf_struct[ii]['subject'])+'_session_'+str(edf_struct[ii]['session'])+'_raw.fif'\n",
    "raw.save(save_file_name)\n",
    "\n",
    "\n",
    "tmp_hpc_channels_idx = []\n",
    "tmp_hpc_channels_name = []\n",
    "for cc in range(len(raw.info['ch_names'])):\n",
    "    if raw.info['ch_names'][cc] in [\"C1\",\"C2\",\"B1\",\"B2\",\"C'1\",\"C'2\",\"B'1\",\"B'2\"]:\n",
    "        tmp_hpc_channels_idx.append(cc)\n",
    "        tmp_hpc_channels_name.append(raw.info['ch_names'][cc])\n",
    "\n",
    "        \n",
    "study_info[ii] = {}\n",
    "study_info[ii]['subject'] = edf_struct[ii]['subject']\n",
    "study_info[ii]['session'] = edf_struct[ii]['session']\n",
    "study_info[ii]['save_file_name'] = save_file_name\n",
    "study_info[ii]['tmp_hpc_channels_idx'] = tmp_hpc_channels_idx\n",
    "study_info[ii]['tmp_hpc_channels_name'] = tmp_hpc_channels_name\n",
    "study_info[ii]['trial_markers'] = this_session_markers"
   ]
  },
  {
   "cell_type": "code",
   "execution_count": 7,
   "metadata": {},
   "outputs": [
    {
     "name": "stdout",
     "output_type": "stream",
     "text": [
      "Extracting EDF parameters from /Volumes/Elements/normaliser_edf_data/20_04_16.edf...\n",
      "EDF file detected\n",
      "Setting channel info structure...\n",
      "Creating raw.info structure...\n",
      "Setting up band-stop filter\n",
      "Filter length of 3301 samples (6.602 sec) selected\n",
      "Writing /Users/diogo/Desktop/Normaliser_2019/data_all/sub_0_session_2_raw.fif\n",
      "Closing /Users/diogo/Desktop/Normaliser_2019/data_all/sub_0_session_2_raw.fif [done]\n"
     ]
    },
    {
     "data": {
      "image/png": "[encoded data removed]",
      "text/plain": [
       "<Figure size 432x288 with 1 Axes>"
      ]
     },
     "metadata": {
      "needs_background": "light"
     },
     "output_type": "display_data"
    }
   ],
   "source": [
    "ii = 2\n",
    "\n",
    "filename = edf_struct[ii]['filename']\n",
    "raw = mne.io.read_raw_edf(filename, preload=False)\n",
    "\n",
    "\n",
    "raw_data = raw.get_data(picks=[edf_struct[ii]['ttl']], start=edf_struct[ii]['start'] , stop=edf_struct[ii]['end'])\n",
    "raw_data = raw_data[0]\n",
    "raw_data = mne.filter.notch_filter(raw_data, raw.info['sfreq'], [50,100,150,200], notch_widths=2)\n",
    "\n",
    "\n",
    "\n",
    "idx_ttl = np.where( stats.zscore(np.abs(np.diff(raw_data))) > 5 )[0]\n",
    "idx_ttl_2 = np.where(np.diff(idx_ttl)>1000)[0]\n",
    "final_idx = np.copy(idx_ttl[idx_ttl_2])\n",
    "\n",
    "if final_idx.size == 26:\n",
    "    final_idx = np.append(final_idx , final_idx[-1]+np.min(np.diff(final_idx)))\n",
    "    print(final_idx.size)\n",
    "\n",
    "plt.plot( raw_data )\n",
    "plt.plot(   final_idx, np.ones(final_idx.size)*np.mean(raw_data)   , 'r|', markeredgewidth=2, markersize=10)\n",
    "\n",
    "this_session_markers = np.vstack([final_idx, speed, density]).T\n",
    "\n",
    "\n",
    "\n",
    "crop_tmin = edf_struct[ii]['start'] / raw.info['sfreq'] \n",
    "crop_tmax = edf_struct[ii]['end'] / raw.info['sfreq']\n",
    "raw = raw.crop(tmin=crop_tmin, tmax=crop_tmax)\n",
    "\n",
    "save_file_name = 'data_all/sub_'+str(edf_struct[ii]['subject'])+'_session_'+str(edf_struct[ii]['session'])+'_raw.fif'\n",
    "raw.save(save_file_name)\n",
    "\n",
    "\n",
    "tmp_hpc_channels_idx = []\n",
    "tmp_hpc_channels_name = []\n",
    "for cc in range(len(raw.info['ch_names'])):\n",
    "    if raw.info['ch_names'][cc] in [\"C1\",\"C2\",\"B1\",\"B2\",\"C'1\",\"C'2\",\"B'1\",\"B'2\"]:\n",
    "        tmp_hpc_channels_idx.append(cc)\n",
    "        tmp_hpc_channels_name.append(raw.info['ch_names'][cc])\n",
    "\n",
    "        \n",
    "study_info[ii] = {}\n",
    "study_info[ii]['subject'] = edf_struct[ii]['subject']\n",
    "study_info[ii]['session'] = edf_struct[ii]['session']\n",
    "study_info[ii]['save_file_name'] = save_file_name\n",
    "study_info[ii]['tmp_hpc_channels_idx'] = tmp_hpc_channels_idx\n",
    "study_info[ii]['tmp_hpc_channels_name'] = tmp_hpc_channels_name\n",
    "study_info[ii]['trial_markers'] = this_session_markers"
   ]
  },
  {
   "cell_type": "code",
   "execution_count": 8,
   "metadata": {},
   "outputs": [
    {
     "name": "stdout",
     "output_type": "stream",
     "text": [
      "Extracting EDF parameters from /Volumes/Elements/normaliser_edf_data/030416.edf...\n",
      "EDF file detected\n",
      "Setting channel info structure...\n",
      "Creating raw.info structure...\n",
      "Setting up band-stop filter\n",
      "Filter length of 3301 samples (6.602 sec) selected\n",
      "27\n",
      "Writing /Users/diogo/Desktop/Normaliser_2019/data_all/sub_1_session_0_raw.fif\n",
      "Closing /Users/diogo/Desktop/Normaliser_2019/data_all/sub_1_session_0_raw.fif [done]\n"
     ]
    },
    {
     "data": {
      "image/png": "[encoded data removed]",
      "text/plain": [
       "<Figure size 432x288 with 1 Axes>"
      ]
     },
     "metadata": {
      "needs_background": "light"
     },
     "output_type": "display_data"
    }
   ],
   "source": [
    "ii = 3\n",
    "\n",
    "filename = edf_struct[ii]['filename']\n",
    "raw = mne.io.read_raw_edf(filename, preload=False)\n",
    "\n",
    "\n",
    "raw_data = raw.get_data(picks=[edf_struct[ii]['ttl']], start=edf_struct[ii]['start'] , stop=edf_struct[ii]['end'])\n",
    "raw_data = raw_data[0]\n",
    "raw_data = mne.filter.notch_filter(raw_data, raw.info['sfreq'], [50,100,150,200], notch_widths=2)\n",
    "\n",
    "\n",
    "\n",
    "idx_ttl = np.where( stats.zscore(np.abs(np.diff(raw_data))) > 5 )[0]\n",
    "idx_ttl_2 = np.where(np.diff(idx_ttl)>1000)[0]\n",
    "final_idx = np.copy(idx_ttl[idx_ttl_2])\n",
    "\n",
    "if final_idx.size == 26:\n",
    "    final_idx = np.append(final_idx , final_idx[-1]+np.min(np.diff(final_idx)))\n",
    "    print(final_idx.size)\n",
    "\n",
    "plt.plot( raw_data )\n",
    "plt.plot(   final_idx, np.ones(final_idx.size)*np.mean(raw_data)   , 'r|', markeredgewidth=2, markersize=10)\n",
    "\n",
    "this_session_markers = np.vstack([final_idx, speed, density]).T\n",
    "\n",
    "\n",
    "\n",
    "crop_tmin = edf_struct[ii]['start'] / raw.info['sfreq'] \n",
    "crop_tmax = edf_struct[ii]['end'] / raw.info['sfreq']\n",
    "raw = raw.crop(tmin=crop_tmin, tmax=crop_tmax)\n",
    "\n",
    "save_file_name = 'data_all/sub_'+str(edf_struct[ii]['subject'])+'_session_'+str(edf_struct[ii]['session'])+'_raw.fif'\n",
    "raw.save(save_file_name)\n",
    "\n",
    "\n",
    "tmp_hpc_channels_idx = []\n",
    "tmp_hpc_channels_name = []\n",
    "for cc in range(len(raw.info['ch_names'])):\n",
    "    if raw.info['ch_names'][cc] in [\"C1\",\"C2\",\"B1\",\"B2\",\"C'1\",\"C'2\",\"B'1\",\"B'2\"]:\n",
    "        tmp_hpc_channels_idx.append(cc)\n",
    "        tmp_hpc_channels_name.append(raw.info['ch_names'][cc])\n",
    "\n",
    "        \n",
    "study_info[ii] = {}\n",
    "study_info[ii]['subject'] = edf_struct[ii]['subject']\n",
    "study_info[ii]['session'] = edf_struct[ii]['session']\n",
    "study_info[ii]['save_file_name'] = save_file_name\n",
    "study_info[ii]['tmp_hpc_channels_idx'] = tmp_hpc_channels_idx\n",
    "study_info[ii]['tmp_hpc_channels_name'] = tmp_hpc_channels_name\n",
    "study_info[ii]['trial_markers'] = this_session_markers"
   ]
  },
  {
   "cell_type": "code",
   "execution_count": 9,
   "metadata": {},
   "outputs": [
    {
     "name": "stdout",
     "output_type": "stream",
     "text": [
      "Extracting EDF parameters from /Volumes/Elements/normaliser_edf_data/040416.edf...\n",
      "EDF file detected\n",
      "Setting channel info structure...\n",
      "Creating raw.info structure...\n",
      "Setting up band-stop filter\n",
      "Filter length of 3301 samples (6.602 sec) selected\n",
      "27\n",
      "Writing /Users/diogo/Desktop/Normaliser_2019/data_all/sub_1_session_1_raw.fif\n",
      "Closing /Users/diogo/Desktop/Normaliser_2019/data_all/sub_1_session_1_raw.fif [done]\n"
     ]
    },
    {
     "data": {
      "image/png": "[encoded data removed]",
      "text/plain": [
       "<Figure size 432x288 with 1 Axes>"
      ]
     },
     "metadata": {
      "needs_background": "light"
     },
     "output_type": "display_data"
    }
   ],
   "source": [
    "ii = 4\n",
    "\n",
    "filename = edf_struct[ii]['filename']\n",
    "raw = mne.io.read_raw_edf(filename, preload=False)\n",
    "\n",
    "\n",
    "raw_data = raw.get_data(picks=[edf_struct[ii]['ttl']], start=edf_struct[ii]['start'] , stop=edf_struct[ii]['end'])\n",
    "raw_data = raw_data[0]\n",
    "raw_data = mne.filter.notch_filter(raw_data, raw.info['sfreq'], [50,100,150,200], notch_widths=2)\n",
    "\n",
    "\n",
    "\n",
    "idx_ttl = np.where( stats.zscore(np.abs(np.diff(raw_data))) > 5 )[0]\n",
    "idx_ttl_2 = np.where(np.diff(idx_ttl)>1000)[0]\n",
    "final_idx = np.copy(idx_ttl[idx_ttl_2])\n",
    "\n",
    "if final_idx.size == 26:\n",
    "    final_idx = np.append(final_idx , final_idx[-1]+np.min(np.diff(final_idx)))\n",
    "    print(final_idx.size)\n",
    "\n",
    "plt.plot( raw_data )\n",
    "plt.plot(   final_idx, np.ones(final_idx.size)*np.mean(raw_data)   , 'r|', markeredgewidth=2, markersize=10)\n",
    "\n",
    "this_session_markers = np.vstack([final_idx, speed, density]).T\n",
    "\n",
    "\n",
    "\n",
    "crop_tmin = edf_struct[ii]['start'] / raw.info['sfreq'] \n",
    "crop_tmax = edf_struct[ii]['end'] / raw.info['sfreq']\n",
    "raw = raw.crop(tmin=crop_tmin, tmax=crop_tmax)\n",
    "\n",
    "save_file_name = 'data_all/sub_'+str(edf_struct[ii]['subject'])+'_session_'+str(edf_struct[ii]['session'])+'_raw.fif'\n",
    "raw.save(save_file_name)\n",
    "\n",
    "\n",
    "tmp_hpc_channels_idx = []\n",
    "tmp_hpc_channels_name = []\n",
    "for cc in range(len(raw.info['ch_names'])):\n",
    "    if raw.info['ch_names'][cc] in [\"C1\",\"C2\",\"B1\",\"B2\",\"C'1\",\"C'2\",\"B'1\",\"B'2\"]:\n",
    "        tmp_hpc_channels_idx.append(cc)\n",
    "        tmp_hpc_channels_name.append(raw.info['ch_names'][cc])\n",
    "\n",
    "        \n",
    "study_info[ii] = {}\n",
    "study_info[ii]['subject'] = edf_struct[ii]['subject']\n",
    "study_info[ii]['session'] = edf_struct[ii]['session']\n",
    "study_info[ii]['save_file_name'] = save_file_name\n",
    "study_info[ii]['tmp_hpc_channels_idx'] = tmp_hpc_channels_idx\n",
    "study_info[ii]['tmp_hpc_channels_name'] = tmp_hpc_channels_name\n",
    "study_info[ii]['trial_markers'] = this_session_markers"
   ]
  },
  {
   "cell_type": "code",
   "execution_count": 10,
   "metadata": {},
   "outputs": [
    {
     "name": "stdout",
     "output_type": "stream",
     "text": [
      "Extracting EDF parameters from /Volumes/Elements/normaliser_edf_data/eugeni_110716.edf...\n",
      "EDF file detected\n",
      "Setting channel info structure...\n",
      "Creating raw.info structure...\n",
      "Setting up band-stop filter\n",
      "Filter length of 3301 samples (6.602 sec) selected\n",
      "27\n",
      "Writing /Users/diogo/Desktop/Normaliser_2019/data_all/sub_2_session_1_raw.fif\n",
      "Closing /Users/diogo/Desktop/Normaliser_2019/data_all/sub_2_session_1_raw.fif [done]\n"
     ]
    },
    {
     "data": {
      "image/png": "[encoded data removed]",
      "text/plain": [
       "<Figure size 432x288 with 1 Axes>"
      ]
     },
     "metadata": {
      "needs_background": "light"
     },
     "output_type": "display_data"
    }
   ],
   "source": [
    "ii = 6\n",
    "\n",
    "filename = edf_struct[ii]['filename']\n",
    "raw = mne.io.read_raw_edf(filename, preload=False)\n",
    "\n",
    "\n",
    "raw_data = raw.get_data(picks=[edf_struct[ii]['ttl']], start=edf_struct[ii]['start'] , stop=edf_struct[ii]['end'])\n",
    "raw_data = raw_data[0]\n",
    "raw_data = mne.filter.notch_filter(raw_data, raw.info['sfreq'], [50,100,150,200], notch_widths=2)\n",
    "\n",
    "\n",
    "\n",
    "idx_ttl = np.where( stats.zscore(np.abs(np.diff(raw_data))) > 10 )[0]\n",
    "idx_ttl_2 = np.where(np.diff(idx_ttl)>1000)[0]\n",
    "final_idx = np.copy(idx_ttl[idx_ttl_2])\n",
    "\n",
    "final_idx = final_idx[1:]\n",
    "\n",
    "if final_idx.size == 26:\n",
    "    final_idx = np.append(final_idx , final_idx[-1]+np.min(np.diff(final_idx)))\n",
    "    print(final_idx.size)\n",
    "\n",
    "plt.plot( raw_data )\n",
    "plt.plot(   final_idx, np.ones(final_idx.size)*np.mean(raw_data)   , 'r|', markeredgewidth=2, markersize=10)\n",
    "\n",
    "this_session_markers = np.vstack([final_idx, speed, density]).T\n",
    "\n",
    "\n",
    "\n",
    "crop_tmin = edf_struct[ii]['start'] / raw.info['sfreq'] \n",
    "crop_tmax = edf_struct[ii]['end'] / raw.info['sfreq']\n",
    "raw = raw.crop(tmin=crop_tmin, tmax=crop_tmax)\n",
    "\n",
    "save_file_name = 'data_all/sub_'+str(edf_struct[ii]['subject'])+'_session_'+str(edf_struct[ii]['session'])+'_raw.fif'\n",
    "raw.save(save_file_name)\n",
    "\n",
    "\n",
    "tmp_hpc_channels_idx = []\n",
    "tmp_hpc_channels_name = []\n",
    "for cc in range(len(raw.info['ch_names'])):\n",
    "    if raw.info['ch_names'][cc] in [\"C1\",\"C2\",\"B1\",\"B2\",\"C'1\",\"C'2\",\"B'1\",\"B'2\"]:\n",
    "        tmp_hpc_channels_idx.append(cc)\n",
    "        tmp_hpc_channels_name.append(raw.info['ch_names'][cc])\n",
    "\n",
    "        \n",
    "study_info[ii] = {}\n",
    "study_info[ii]['subject'] = edf_struct[ii]['subject']\n",
    "study_info[ii]['session'] = edf_struct[ii]['session']\n",
    "study_info[ii]['save_file_name'] = save_file_name\n",
    "study_info[ii]['tmp_hpc_channels_idx'] = tmp_hpc_channels_idx\n",
    "study_info[ii]['tmp_hpc_channels_name'] = tmp_hpc_channels_name\n",
    "study_info[ii]['trial_markers'] = this_session_markers"
   ]
  },
  {
   "cell_type": "code",
   "execution_count": 11,
   "metadata": {},
   "outputs": [
    {
     "name": "stdout",
     "output_type": "stream",
     "text": [
      "Extracting EDF parameters from /Volumes/Elements/normaliser_edf_data/eugeni_120716.edf...\n",
      "EDF file detected\n",
      "Setting channel info structure...\n",
      "Creating raw.info structure...\n",
      "Setting up band-stop filter\n",
      "Filter length of 3301 samples (6.602 sec) selected\n",
      "27\n",
      "Writing /Users/diogo/Desktop/Normaliser_2019/data_all/sub_2_session_2_raw.fif\n",
      "Closing /Users/diogo/Desktop/Normaliser_2019/data_all/sub_2_session_2_raw.fif [done]\n"
     ]
    },
    {
     "data": {
      "image/png": "[encoded data removed]",
      "text/plain": [
       "<Figure size 432x288 with 1 Axes>"
      ]
     },
     "metadata": {
      "needs_background": "light"
     },
     "output_type": "display_data"
    }
   ],
   "source": [
    "ii = 7\n",
    "\n",
    "filename = edf_struct[ii]['filename']\n",
    "raw = mne.io.read_raw_edf(filename, preload=False)\n",
    "\n",
    "\n",
    "raw_data = raw.get_data(picks=[edf_struct[ii]['ttl']], start=edf_struct[ii]['start'] , stop=edf_struct[ii]['end'])\n",
    "raw_data = raw_data[0]\n",
    "raw_data = mne.filter.notch_filter(raw_data, raw.info['sfreq'], [50,100,150,200], notch_widths=2)\n",
    "\n",
    "\n",
    "\n",
    "idx_ttl = np.where( stats.zscore(np.abs(np.diff(raw_data))) > 5 )[0]\n",
    "idx_ttl_2 = np.where(np.diff(idx_ttl)>1000)[0]\n",
    "final_idx = np.copy(idx_ttl[idx_ttl_2])\n",
    "\n",
    "if final_idx.size == 26:\n",
    "    final_idx = np.append(final_idx , final_idx[-1]+np.min(np.diff(final_idx)))\n",
    "    print(final_idx.size)\n",
    "\n",
    "plt.plot( raw_data )\n",
    "plt.plot(   final_idx, np.ones(final_idx.size)*np.mean(raw_data)   , 'r|', markeredgewidth=2, markersize=10)\n",
    "\n",
    "this_session_markers = np.vstack([final_idx, speed, density]).T\n",
    "\n",
    "\n",
    "\n",
    "crop_tmin = edf_struct[ii]['start'] / raw.info['sfreq'] \n",
    "crop_tmax = edf_struct[ii]['end'] / raw.info['sfreq']\n",
    "raw = raw.crop(tmin=crop_tmin, tmax=crop_tmax)\n",
    "\n",
    "save_file_name = 'data_all/sub_'+str(edf_struct[ii]['subject'])+'_session_'+str(edf_struct[ii]['session'])+'_raw.fif'\n",
    "raw.save(save_file_name)\n",
    "\n",
    "\n",
    "tmp_hpc_channels_idx = []\n",
    "tmp_hpc_channels_name = []\n",
    "for cc in range(len(raw.info['ch_names'])):\n",
    "    if raw.info['ch_names'][cc] in [\"C1\",\"C2\",\"B1\",\"B2\",\"C'1\",\"C'2\",\"B'1\",\"B'2\"]:\n",
    "        tmp_hpc_channels_idx.append(cc)\n",
    "        tmp_hpc_channels_name.append(raw.info['ch_names'][cc])\n",
    "\n",
    "        \n",
    "study_info[ii] = {}\n",
    "study_info[ii]['subject'] = edf_struct[ii]['subject']\n",
    "study_info[ii]['session'] = edf_struct[ii]['session']\n",
    "study_info[ii]['save_file_name'] = save_file_name\n",
    "study_info[ii]['tmp_hpc_channels_idx'] = tmp_hpc_channels_idx\n",
    "study_info[ii]['tmp_hpc_channels_name'] = tmp_hpc_channels_name\n",
    "study_info[ii]['trial_markers'] = this_session_markers"
   ]
  },
  {
   "cell_type": "code",
   "execution_count": 12,
   "metadata": {},
   "outputs": [
    {
     "name": "stdout",
     "output_type": "stream",
     "text": [
      "Extracting EDF parameters from /Volumes/Elements/normaliser_edf_data/Ines_250716.edf...\n",
      "EDF file detected\n",
      "Setting channel info structure...\n",
      "Creating raw.info structure...\n",
      "Setting up band-stop filter\n",
      "Filter length of 3301 samples (6.602 sec) selected\n",
      "27\n",
      "Writing /Users/diogo/Desktop/Normaliser_2019/data_all/sub_3_session_0_raw.fif\n",
      "Closing /Users/diogo/Desktop/Normaliser_2019/data_all/sub_3_session_0_raw.fif [done]\n"
     ]
    },
    {
     "data": {
      "image/png": "[encoded data removed]",
      "text/plain": [
       "<Figure size 432x288 with 1 Axes>"
      ]
     },
     "metadata": {
      "needs_background": "light"
     },
     "output_type": "display_data"
    }
   ],
   "source": [
    "ii = 8\n",
    "\n",
    "filename = edf_struct[ii]['filename']\n",
    "raw = mne.io.read_raw_edf(filename, preload=False)\n",
    "\n",
    "\n",
    "raw_data = raw.get_data(picks=[edf_struct[ii]['ttl']], start=edf_struct[ii]['start'] , stop=edf_struct[ii]['end'])\n",
    "raw_data = raw_data[0]\n",
    "raw_data = mne.filter.notch_filter(raw_data, raw.info['sfreq'], [50,100,150,200], notch_widths=2)\n",
    "\n",
    "\n",
    "\n",
    "idx_ttl = np.where( stats.zscore(np.abs(np.diff(raw_data))) > 5 )[0]\n",
    "idx_ttl_2 = np.where(np.diff(idx_ttl)>1000)[0]\n",
    "final_idx = np.copy(idx_ttl[idx_ttl_2])\n",
    "\n",
    "if final_idx.size == 26:\n",
    "    final_idx = np.append(final_idx , final_idx[-1]+np.min(np.diff(final_idx)))\n",
    "    print(final_idx.size)\n",
    "\n",
    "plt.plot( raw_data )\n",
    "plt.plot(   final_idx, np.ones(final_idx.size)*np.mean(raw_data)   , 'r|', markeredgewidth=2, markersize=10)\n",
    "\n",
    "this_session_markers = np.vstack([final_idx, speed, density]).T\n",
    "\n",
    "\n",
    "\n",
    "crop_tmin = edf_struct[ii]['start'] / raw.info['sfreq'] \n",
    "crop_tmax = edf_struct[ii]['end'] / raw.info['sfreq']\n",
    "raw = raw.crop(tmin=crop_tmin, tmax=crop_tmax)\n",
    "\n",
    "save_file_name = 'data_all/sub_'+str(edf_struct[ii]['subject'])+'_session_'+str(edf_struct[ii]['session'])+'_raw.fif'\n",
    "raw.save(save_file_name)\n",
    "\n",
    "\n",
    "tmp_hpc_channels_idx = []\n",
    "tmp_hpc_channels_name = []\n",
    "for cc in range(len(raw.info['ch_names'])):\n",
    "    if raw.info['ch_names'][cc] in [\"C1\",\"C2\",\"B1\",\"B2\",\"C'1\",\"C'2\",\"B'1\",\"B'2\"]:\n",
    "        tmp_hpc_channels_idx.append(cc)\n",
    "        tmp_hpc_channels_name.append(raw.info['ch_names'][cc])\n",
    "\n",
    "        \n",
    "study_info[ii] = {}\n",
    "study_info[ii]['subject'] = edf_struct[ii]['subject']\n",
    "study_info[ii]['session'] = edf_struct[ii]['session']\n",
    "study_info[ii]['save_file_name'] = save_file_name\n",
    "study_info[ii]['tmp_hpc_channels_idx'] = tmp_hpc_channels_idx\n",
    "study_info[ii]['tmp_hpc_channels_name'] = tmp_hpc_channels_name\n",
    "study_info[ii]['trial_markers'] = this_session_markers"
   ]
  },
  {
   "cell_type": "markdown",
   "metadata": {},
   "source": [
    "# Here starts changes within the trial"
   ]
  },
  {
   "cell_type": "code",
   "execution_count": 26,
   "metadata": {},
   "outputs": [
    {
     "name": "stdout",
     "output_type": "stream",
     "text": [
      "Extracting EDF parameters from /Volumes/Elements/normaliser_edf_data/200516.edf...\n",
      "EDF file detected\n",
      "Setting channel info structure...\n",
      "Creating raw.info structure...\n",
      "Setting up band-stop filter\n",
      "Filter length of 13517 samples (6.600 sec) selected\n",
      "Writing /Users/diogo/Desktop/Normaliser_2019/data_all/sub_4_session_0_raw.fif\n",
      "Closing /Users/diogo/Desktop/Normaliser_2019/data_all/sub_4_session_0_raw.fif [done]\n"
     ]
    },
    {
     "data": {
      "image/png": "[encoded data removed]",
      "text/plain": [
       "<Figure size 432x288 with 1 Axes>"
      ]
     },
     "metadata": {
      "needs_background": "light"
     },
     "output_type": "display_data"
    }
   ],
   "source": [
    "ii = 9\n",
    "\n",
    "filename = edf_struct[ii]['filename']\n",
    "raw = mne.io.read_raw_edf(filename, preload=False)\n",
    "\n",
    "\n",
    "raw_data = raw.get_data(picks=[edf_struct[ii]['ttl']], start=edf_struct[ii]['start'] , stop=edf_struct[ii]['end'])\n",
    "raw_data = raw_data[0]\n",
    "raw_data = mne.filter.notch_filter(raw_data, raw.info['sfreq'], [50,100,150,200], notch_widths=2)\n",
    "\n",
    "\n",
    "\n",
    "idx_ttl = np.where( stats.zscore(np.abs(np.diff(raw_data))) > 5 )[0]\n",
    "idx_ttl_2 = np.where(np.diff(idx_ttl)>1000)[0]\n",
    "final_idx = np.copy(idx_ttl[idx_ttl_2])\n",
    "\n",
    "plt.plot( raw_data )\n",
    "plt.plot(   final_idx, np.ones(final_idx.size)*np.mean(raw_data)   , 'r|', markeredgewidth=2, markersize=10)\n",
    "\n",
    "\n",
    "experiment_log_file = '/Users/diogo/Documents/PHD/SPECS/HOSPITAL_STUDIES/theta_normalizer_changes_speed_within_trial/data/MariaDelMar_session_1_normalizerChangeSpeed_20052016.txt'\n",
    "experiment_log = []\n",
    "with open(experiment_log_file, 'r') as handle:\n",
    "    for line in handle:        \n",
    "        experiment_log.append(line)\n",
    "        \n",
    "        \n",
    "        \n",
    "stamps = []\n",
    "for line in experiment_log[1:-1]:\n",
    "    if line[0] == 'T': density = float(line.split(' ')[3])\n",
    "    if line[:2] == ' C': \n",
    "        speed = float(line.split(' ')[4]    )\n",
    "        stamps.append( [speed, density]  )\n",
    "stamps = np.asanyarray(stamps)\n",
    "\n",
    "stamps[:,0][stamps[:,0]==0.8] = 0\n",
    "stamps[:,0][stamps[:,0]==1.0] = 1\n",
    "stamps[:,0][stamps[:,0]==1.3] = 2\n",
    "\n",
    "stamps[:,1][stamps[:,1]==50] = 0\n",
    "stamps[:,1][stamps[:,1]==100] = 1\n",
    "stamps[:,1][stamps[:,1]==150] = 2\n",
    "\n",
    "\n",
    "stamps = stamps.astype(int)\n",
    "\n",
    "stamps = stamps[1:-1]  ## for 20_05_2016\n",
    "\n",
    "this_session_markers = np.hstack([ np.expand_dims(final_idx, axis=1), stamps  ])\n",
    "\n",
    "\n",
    "crop_tmin = edf_struct[ii]['start'] / raw.info['sfreq'] \n",
    "crop_tmax = edf_struct[ii]['end'] / raw.info['sfreq']\n",
    "raw = raw.crop(tmin=crop_tmin, tmax=crop_tmax)\n",
    "\n",
    "save_file_name = 'data_all/sub_'+str(edf_struct[ii]['subject'])+'_session_'+str(edf_struct[ii]['session'])+'_raw.fif'\n",
    "raw.save(save_file_name)\n",
    "\n",
    "\n",
    "tmp_hpc_channels_idx = []\n",
    "tmp_hpc_channels_name = []\n",
    "for cc in range(len(raw.info['ch_names'])):\n",
    "    if raw.info['ch_names'][cc] in [\"C1\",\"C2\",\"B1\",\"B2\",\"C'1\",\"C'2\",\"B'1\",\"B'2\"]:\n",
    "        tmp_hpc_channels_idx.append(cc)\n",
    "        tmp_hpc_channels_name.append(raw.info['ch_names'][cc])\n",
    "\n",
    "        \n",
    "study_info[ii] = {}\n",
    "study_info[ii]['subject'] = edf_struct[ii]['subject']\n",
    "study_info[ii]['session'] = edf_struct[ii]['session']\n",
    "study_info[ii]['save_file_name'] = save_file_name\n",
    "study_info[ii]['tmp_hpc_channels_idx'] = tmp_hpc_channels_idx\n",
    "study_info[ii]['tmp_hpc_channels_name'] = tmp_hpc_channels_name\n",
    "study_info[ii]['trial_markers'] = this_session_markers\n",
    "\n",
    "\n"
   ]
  },
  {
   "cell_type": "code",
   "execution_count": 29,
   "metadata": {},
   "outputs": [
    {
     "data": {
      "text/plain": [
       "array([[  7292,      0,      0],\n",
       "       [ 16580,      1,      0],\n",
       "       [ 23445,      2,      0],\n",
       "       [ 29096,      0,      1],\n",
       "       [ 38404,      1,      1],\n",
       "       [ 45271,      2,      1],\n",
       "       [ 50923,      0,      2],\n",
       "       [ 60221,      1,      2],\n",
       "       [ 67097,      2,      2],\n",
       "       [ 72756,      0,      0],\n",
       "       [ 82048,      1,      0],\n",
       "       [ 88915,      2,      0],\n",
       "       [ 94572,      0,      1],\n",
       "       [103873,      1,      1],\n",
       "       [110749,      2,      1],\n",
       "       [116399,      0,      2],\n",
       "       [125699,      1,      2],\n",
       "       [132566,      2,      2],\n",
       "       [138225,      0,      0],\n",
       "       [147524,      1,      0],\n",
       "       [154391,      2,      0],\n",
       "       [160042,      0,      1],\n",
       "       [169351,      1,      1],\n",
       "       [176211,      2,      1],\n",
       "       [181858,      0,      2],\n",
       "       [191152,      1,      2],\n",
       "       [196799,      2,      2]])"
      ]
     },
     "execution_count": 29,
     "metadata": {},
     "output_type": "execute_result"
    }
   ],
   "source": [
    "## Save study_info dictionary and redo the V2_analysis based on that"
   ]
  },
  {
   "cell_type": "code",
   "execution_count": null,
   "metadata": {},
   "outputs": [],
   "source": []
  }
 ],
 "metadata": {
  "kernelspec": {
   "display_name": "Python 3",
   "language": "python",
   "name": "python3"
  },
  "language_info": {
   "codemirror_mode": {
    "name": "ipython",
    "version": 3
   },
   "file_extension": ".py",
   "mimetype": "text/x-python",
   "name": "python",
   "nbconvert_exporter": "python",
   "pygments_lexer": "ipython3",
   "version": "3.7.0"
  }
 },
 "nbformat": 4,
 "nbformat_minor": 2
}
