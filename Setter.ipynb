{
 "cells": [
  {
   "cell_type": "code",
   "execution_count": 12,
   "metadata": {},
   "outputs": [],
   "source": [
    "## plot\n",
    "%matplotlib inline\n",
    "import matplotlib.pyplot as plt\n",
    "\n",
    "## operations\n",
    "import numpy as np\n",
    "from scipy.io import loadmat\n",
    "from scipy import signal\n",
    "from scipy.signal import butter, lfilter\n",
    "from scipy import stats \n",
    "\n",
    "## time_frequency\n",
    "from mne.time_frequency import tfr_array_multitaper, psd_array_multitaper\n",
    "\n",
    "## pac\n",
    "from pactools import Comodulogram, REFERENCES\n",
    "from pactools import simulate_pac\n",
    "\n",
    "import pandas as pd\n",
    "\n",
    "from statsmodels.formula.api import ols, mixedlm\n",
    "import statsmodels.api as sm\n",
    "\n",
    "\n",
    "## Custom made functions from 'util_functions.py' script\n",
    "from util_functions import *\n",
    "\n",
    "## Saving data dictionaries\n",
    "import pickle  ``"
   ]
  },
  {
   "cell_type": "markdown",
   "metadata": {},
   "source": [
    "# Data files info"
   ]
  },
  {
   "cell_type": "code",
   "execution_count": 6,
   "metadata": {},
   "outputs": [],
   "source": [
    "sessions = ['Eugeni_s2','Eugeni_s3','JCQ_s1','JCQ_s2','JS_s1','JS_s2','JS_s3','MRI_s2']  ## missing 'MM_s1'.. ttl needs to be fixed\n",
    "ttl_idx  = [123, 123, 125, 125, 120,120, 120, 126 ]"
   ]
  },
  {
   "cell_type": "code",
   "execution_count": 7,
   "metadata": {},
   "outputs": [],
   "source": [
    "chan_of_int = [ \"B'1\" , \"B'2\"  , \"C'1\", \"C'2\", \"B1\", \"B2\", \"C1\", \"C2\"  ]\n",
    "\n",
    "hpc_electrodes = [] ## make a list of hippocampal electrodes index \n",
    "for pp in range(len(sessions)):\n",
    "\n",
    "    ss = sessions[pp]\n",
    "    chan_info = loadmat('../Data/'+ss+'_chanlocs_labels.mat')\n",
    "    indx_chan = []\n",
    "\n",
    "    for ii in range( chan_info['x'].shape[0] ):\n",
    "        if chan_info['x'][ii][0][0] in chan_of_int: indx_chan.append( ii)\n",
    "    hpc_electrodes.append( indx_chan )"
   ]
  },
  {
   "cell_type": "code",
   "execution_count": 8,
   "metadata": {},
   "outputs": [],
   "source": [
    "trials_markers = {}\n",
    "\n",
    "to_plot = False ## a flag to plot trials index\n",
    "\n",
    "for n in range(len(sessions)):\n",
    "\n",
    "    ss = sessions[n]\n",
    "    ttl = ttl_idx[n]\n",
    "\n",
    "    lfp = loadmat('../Data/'+ss+'.mat')\n",
    "\n",
    "    ttl_diff = np.diff( lfp['ourData'][ttl] )\n",
    "\n",
    "    ttl_diff_xx = np.zeros_like(ttl_diff)\n",
    "    ttl_diff_xx[ ttl_diff > 100  ] = 350\n",
    "\n",
    "    idx = np.where(ttl_diff_xx!=0)[0]\n",
    "    idx = idx[ np.where(np.diff(idx)>500)[0] ]\n",
    "\n",
    "    last_trial = np.where(ttl_diff_xx!=0)[0][-1]\n",
    "\n",
    "    idx_trials = np.concatenate(np.array([ idx , np.array([last_trial])     ]) )\n",
    "\n",
    "    if to_plot == True:\n",
    "        plt.figure(figsize=(15,3))\n",
    "        plt.plot(  ttl_diff )\n",
    "        plt.title(ss)\n",
    "        plt.vlines(idx_trials, 0,400, 'g')\n",
    "\n",
    "    trials_markers[ ss ] = idx_trials"
   ]
  },
  {
   "cell_type": "code",
   "execution_count": 14,
   "metadata": {},
   "outputs": [],
   "source": [
    "### Save trial markers in a pickle file\n",
    "with open('../Results/trials_markers.pickle', 'wb') as handle:\n",
    "    pickle.dump(trials_markers, handle, protocol=pickle.HIGHEST_PROTOCOL)\n",
    "    \n",
    "    \n",
    "### Load trial markers for each session\n",
    "# with open('../Results/trials_markers.pickle', 'rb') as handle:\n",
    "#     trials_markers = pickle.load(handle)"
   ]
  },
  {
   "cell_type": "code",
   "execution_count": 19,
   "metadata": {},
   "outputs": [],
   "source": [
    "fs = 512. ## Sampling rate (Hz)\n",
    "\n",
    "## Trial type related info\n",
    "density = np.tile( np.repeat( np.arange(3), 3 ),3)\n",
    "speed = np.tile( np.arange(3), 9 )\n",
    "\n",
    "# dur = [ 18.1, 13.5, 11]\n",
    "# dd = [50,100,150]\n",
    "dur = np.tile( np.array([ 18.1, 13.5, 11]), 3).reshape(3,3).T\n",
    "dd = np.tile(np.array([50,100,150]),3).reshape(3,3)\n",
    "K_i = dd/dur\n",
    "K_i_idx = np.unravel_index(np.argsort(K_i, axis=None), K_i.shape)\n",
    "uni = np.unique(K_i)\n",
    "\n",
    "t_dur = 360/np.array([ 18.1, 13.5, 11])\n",
    "t_dd = np.array([50,100,150])\n",
    "\n",
    "\n",
    "study_info = {}\n",
    "study_info['density'] = density\n",
    "study_info['speed'] = speed\n",
    "study_info['dur'] = dur\n",
    "study_info['dd'] = dd\n",
    "study_info['fs'] = fs\n",
    "study_info['K_i_idx'] = K_i_idx\n",
    "study_info['K_i'] = K_i\n",
    "study_info['uni'] = uni\n",
    "study_info['t_dur'] = t_dur\n",
    "study_info['t_dd'] = t_dd\n",
    "\n",
    "\n",
    "study_info['sessions'] = sessions\n",
    "study_info['ttl_idx'] = ttl_idx \n",
    "\n",
    "study_info['hpc_electrodes'] = hpc_electrodes\n",
    "\n",
    "\n",
    "### Save trial markers in a pickle file\n",
    "with open('../Results/study_info.pickle', 'wb') as handle:\n",
    "    pickle.dump(study_info, handle, protocol=pickle.HIGHEST_PROTOCOL)\n"
   ]
  }
 ],
 "metadata": {
  "kernelspec": {
   "display_name": "Python 2",
   "language": "python",
   "name": "python2"
  },
  "language_info": {
   "codemirror_mode": {
    "name": "ipython",
    "version": 2
   },
   "file_extension": ".py",
   "mimetype": "text/x-python",
   "name": "python",
   "nbconvert_exporter": "python",
   "pygments_lexer": "ipython2",
   "version": "2.7.14"
  }
 },
 "nbformat": 4,
 "nbformat_minor": 2
}
