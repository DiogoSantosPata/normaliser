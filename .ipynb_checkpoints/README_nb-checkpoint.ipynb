{
 "cells": [
  {
   "cell_type": "markdown",
   "metadata": {},
   "source": [
    "<h1> README </h1>\n",
    "\n",
    "\n",
    "<h2> Project folder structure: </h2>\n",
    "<br>\n",
    "<li> <b> Analysis : </b> contains the notebook files </li>\n",
    "<li> <b> Results  : </b> contains generated data </li>\n",
    "<li> <b> Data     : </b> contains original LFP data </li>\n",
    "<li> <b> Figures  : </b> contains generated figures </li>\n",
    "\n",
    "\n",
    "<br><br>\n",
    "\n",
    "\n",
    "<h2> Project analysis pipeline: </h2>\n",
    "<br>\n",
    "<ol>\n",
    "    <li> <b> Setter.ipynb : </b>  The first notebook to run. Sets trial markers and study related information\n",
    "                                   such as sampling rate, trial type, .... </li>\n",
    "    <br>\n",
    "    <li> <b> Infographics.ipynb : </b>  Run this notebook to plot experimental setup and protocol related figures</li>\n",
    "    <br>\n",
    "    <li> <b> Compute_dominant_frequency.ipynb : </b>  Run this notebook to compute the theta dominant frequency. It will save numpy array (log_welch) in '../Results/log_welch'. The following notebooks will need this data. </li>\n",
    "    <br>\n",
    "    <li> <b> Stats_on_dominant_frequency.ipynb : </b>  Run this notebook to organize dominant frequency among conditions (cues_per_sec, speed (low,mid,high), density(low,mid,high)). Each cell saves a model containing the averaged data of its corresponding analysis (cues_sec, speed, density). </li>\n",
    "    <br>\n",
    "    <li> <b> Compute_ITC.ipynb : </b>  Run this notebook to get Inter-trial phase coherence at movement onset.</li>   \n",
    "    <br>\n",
    "    <li> <b> Power_movement_onset.ipynb : </b>  Run this notebook to get oscillatory power throughout navigation.</li>       \n",
    "\n",
    "</ol>"
   ]
  },
  {
   "cell_type": "code",
   "execution_count": null,
   "metadata": {
    "collapsed": true
   },
   "outputs": [],
   "source": []
  }
 ],
 "metadata": {
  "kernelspec": {
   "display_name": "Python 2",
   "language": "python",
   "name": "python2"
  },
  "language_info": {
   "codemirror_mode": {
    "name": "ipython",
    "version": 2
   },
   "file_extension": ".py",
   "mimetype": "text/x-python",
   "name": "python",
   "nbconvert_exporter": "python",
   "pygments_lexer": "ipython2",
   "version": "2.7.14"
  }
 },
 "nbformat": 4,
 "nbformat_minor": 2
}
