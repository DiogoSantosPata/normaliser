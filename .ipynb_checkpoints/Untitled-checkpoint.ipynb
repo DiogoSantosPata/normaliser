{
 "cells": [
  {
   "cell_type": "code",
   "execution_count": 10,
   "metadata": {},
   "outputs": [],
   "source": [
    "import numpy as np\n",
    "from openpyxl import load_workbook\n",
    "import pandas as pd\n",
    "import xlrd"
   ]
  },
  {
   "cell_type": "code",
   "execution_count": null,
   "metadata": {},
   "outputs": [],
   "source": [
    "filename = '/Users/diogo/Desktop/pai_nomes_nacionalidades/entidd.xlsx'\n",
    "\n",
    "# data = xlrd.open_workbook(filename)\n",
    "# data = load_workbook(filename, read_only=True)\n",
    "data = pd.read_excel(filename, index_col=None)"
   ]
  }
 ],
 "metadata": {
  "kernelspec": {
   "display_name": "Python 2",
   "language": "python",
   "name": "python2"
  },
  "language_info": {
   "codemirror_mode": {
    "name": "ipython",
    "version": 2
   },
   "file_extension": ".py",
   "mimetype": "text/x-python",
   "name": "python",
   "nbconvert_exporter": "python",
   "pygments_lexer": "ipython2",
   "version": "2.7.14"
  }
 },
 "nbformat": 4,
 "nbformat_minor": 2
}
