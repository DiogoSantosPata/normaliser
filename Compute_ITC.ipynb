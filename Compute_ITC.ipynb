{
 "cells": [
  {
   "cell_type": "markdown",
   "metadata": {},
   "source": [
    "# This notebook will check the Inter trial phase coherence throughout navigation.\n",
    "## Then, it computes statistical significance between navigation onset (first half) with rest of the trial (second half)"
   ]
  },
  {
   "cell_type": "code",
   "execution_count": 4,
   "metadata": {},
   "outputs": [],
   "source": [
    "## plot\n",
    "%matplotlib inline\n",
    "import matplotlib.pyplot as plt\n",
    "\n",
    "## operations\n",
    "import numpy as np\n",
    "from scipy.io import loadmat\n",
    "from scipy import signal\n",
    "from scipy.signal import butter, lfilter\n",
    "from scipy import stats \n",
    "\n",
    "## time_frequency\n",
    "from mne.time_frequency import tfr_array_multitaper, psd_array_multitaper\n",
    "from mne.stats import permutation_cluster_1samp_test, permutation_cluster_test\n",
    "\n",
    "\n",
    "# ## pac\n",
    "# from pactools import Comodulogram, REFERENCES\n",
    "# from pactools import simulate_pac\n",
    "\n",
    "import pandas as pd\n",
    "\n",
    "from statsmodels.formula.api import ols, mixedlm\n",
    "import statsmodels.api as sm\n",
    "\n",
    "## Saving data dictionaries\n",
    "import pickle  "
   ]
  },
  {
   "cell_type": "markdown",
   "metadata": {},
   "source": [
    "# Load study related info"
   ]
  },
  {
   "cell_type": "code",
   "execution_count": 6,
   "metadata": {},
   "outputs": [],
   "source": [
    "## Load study related info\n",
    "with open('../Results/study_info.pickle', 'rb') as handle:\n",
    "    study_info = pickle.load(handle,encoding='latin1')\n",
    "    \n",
    "\n",
    "density        = study_info['density'] \n",
    "speed          = study_info['speed'] \n",
    "dd             = study_info['dd'] ## Number of sensory cues (density)\n",
    "dur            = study_info['dur'] ## Trial duration (sec)\n",
    "K_i_idx        = study_info['K_i_idx']\n",
    "K_i            = study_info['K_i']\n",
    "uni            = study_info['uni']\n",
    "t_dur          = study_info['t_dur']\n",
    "t_dd           = study_info['t_dd']\n",
    "sessions       = study_info['sessions'] \n",
    "ttl_idx        = study_info['ttl_idx']\n",
    "hpc_electrodes = study_info['hpc_electrodes']\n",
    "fs = study_info['fs']\n",
    "\n",
    "\n",
    "\n",
    "## Load trial markers for each session\n",
    "with open('../Results/trials_markers.pickle', 'rb') as handle:\n",
    "    trials_markers = pickle.load(handle,encoding='latin1')"
   ]
  },
  {
   "cell_type": "markdown",
   "metadata": {},
   "source": [
    "# Util functions"
   ]
  },
  {
   "cell_type": "code",
   "execution_count": 7,
   "metadata": {},
   "outputs": [],
   "source": [
    "def get_lfps(sub):\n",
    "    lfp = loadmat('../Data/'+sessions[sub]+'.mat')\n",
    "    lfp = lfp['ourData']\n",
    "    lfp_ga = np.mean(lfp,0)\n",
    "    cc = hpc_electrodes[sub]\n",
    "    tmp_lfp = lfp[cc] - lfp_ga    \n",
    "    return tmp_lfp\n",
    "\n",
    "\n",
    "def get_epochs(tmp_lfp, sub):    \n",
    "    canais = []\n",
    "    for can in range(tmp_lfp.shape[0]):\n",
    "        trii = []\n",
    "        for ii in trials_markers[sessions[sub]]:    \n",
    "            trii.append(  tmp_lfp[can][  ii-int(fs*2):ii+int(fs*6) ]   )        \n",
    "        canais.append(trii)\n",
    "    canais = np.array(canais)\n",
    "    canais = np.swapaxes(canais,0,1)    \n",
    "    return canais\n",
    "    \n",
    "def get_power(canais, freqs, output='power'):    \n",
    "    n_cycles = freqs / 2.  # different number of cycle per frequency\n",
    "    power = tfr_array_multitaper(    canais , fs, freqs=freqs, output=output )\n",
    "    return power\n",
    "    \n",
    "    \n",
    "def plot_spect(spect_data, freqs):\n",
    "    plt.imshow(  spect_data  , aspect='auto', origin='low', cmap='jet'     )\n",
    "    plt.yticks(  np.arange(len(freqs))[::2], freqs.round(2)[::2] );\n",
    "    plt.colorbar()"
   ]
  },
  {
   "cell_type": "markdown",
   "metadata": {},
   "source": [
    "# Compute inter-trial phase coherence"
   ]
  },
  {
   "cell_type": "code",
   "execution_count": 8,
   "metadata": {},
   "outputs": [],
   "source": [
    "freqs = np.logspace(*np.log10([2, 12]), num=30) # define frequencies of interest (log-spaced)\n",
    "\n",
    "log_itcs = []\n",
    "\n",
    "output = 'itc'\n",
    "\n",
    "for sub in range(len(sessions)):\n",
    "\n",
    "    tmp_lfp = get_lfps(sub)\n",
    "    tmp_lfp = get_epochs(tmp_lfp, sub)\n",
    "    power = get_power(tmp_lfp, freqs, output=output)\n",
    "    \n",
    "    if output == 'itc': ll = power.shape[0]-1\n",
    "    if output == 'power': ll = power.shape[1]-1\n",
    "    \n",
    "    for pp in [ll]:\n",
    "        if output == 'itc': log_itcs.append( power[pp] )\n",
    "        if output == 'power': log_itcs.append( np.mean(power[:,pp,:,:],0) )\n"
   ]
  },
  {
   "cell_type": "code",
   "execution_count": 9,
   "metadata": {},
   "outputs": [],
   "source": [
    "log_itcs = np.array(log_itcs)\n",
    "log_itcs_m = np.mean( log_itcs, 0 )"
   ]
  },
  {
   "cell_type": "markdown",
   "metadata": {},
   "source": [
    "# Permute ITC of first half of navigation with second half. \n",
    "### This way we will see whether movement onset triggers ITC"
   ]
  },
  {
   "cell_type": "code",
   "execution_count": 20,
   "metadata": {},
   "outputs": [
    {
     "name": "stdout",
     "output_type": "stream",
     "text": [
      "stat_fun(H1): min=0.000000 max=38.131329\n",
      "Running initial clustering\n",
      "Found 119 clusters\n",
      "Permuting 99 times...\n",
      "[........................................] 100.00%  |   \n",
      "Computing cluster p-values\n",
      "Done.\n"
     ]
    },
    {
     "data": {
      "text/plain": [
       "Text(0, 0.5, 'Frequency (Hz)')"
      ]
     },
     "execution_count": 20,
     "metadata": {},
     "output_type": "execute_result"
    },
    {
     "data": {
      "image/png": "[encoded data removed]",
      "text/plain": [
       "<Figure size 432x288 with 2 Axes>"
      ]
     },
     "metadata": {
      "needs_background": "light"
     },
     "output_type": "display_data"
    }
   ],
   "source": [
    "threshold = 3. #3.22\n",
    "## WARNINIG: \"threshold\" is yet another free parameter to set significance range. \n",
    "## Feel free to explore, just don't abuse :) \n",
    "\n",
    "\n",
    "T_obs, clusters, cluster_p_values, H0 = permutation_cluster_test( [ log_itcs[:,:,:2000] , log_itcs[:,:,-2000:] ], \n",
    "                                         n_permutations=100, threshold=threshold, tail=0)\n",
    "\n",
    "\n",
    "duration = 2000 / fs\n",
    "times = np.linspace(  0, duration, 2000 )\n",
    "\n",
    "# Create new stats image with only significant clusters\n",
    "T_obs_plot = np.nan * np.ones_like(T_obs)\n",
    "for c, p_val in zip(clusters, cluster_p_values):\n",
    "    if p_val <= 0.05:\n",
    "        T_obs_plot[c] = T_obs[c]\n",
    "\n",
    "vmax = np.max(np.abs(T_obs))\n",
    "vmin = -vmax\n",
    "\n",
    "\n",
    "\n",
    "plt.imshow(T_obs, cmap=plt.cm.gray,\n",
    "           extent=[times[0], times[-1], freqs[0], freqs[-1]],\n",
    "           aspect='auto', origin='lower', vmin=vmin, vmax=vmax)\n",
    "plt.imshow(T_obs_plot, cmap=plt.cm.RdBu_r,\n",
    "           extent=[times[0], times[-1], freqs[0], freqs[-1]],\n",
    "           aspect='auto', origin='lower', vmin=vmin, vmax=vmax)\n",
    "plt.colorbar()\n",
    "plt.xlabel('Time (s)')\n",
    "plt.ylabel('Frequency (Hz)')"
   ]
  },
  {
   "cell_type": "code",
   "execution_count": 22,
   "metadata": {},
   "outputs": [
    {
     "data": {
      "text/plain": [
       "''"
      ]
     },
     "execution_count": 22,
     "metadata": {},
     "output_type": "execute_result"
    },
    {
     "data": {
      "image/png": "[encoded data removed]",
      "text/plain": [
       "<Figure size 432x288 with 2 Axes>"
      ]
     },
     "metadata": {
      "needs_background": "light"
     },
     "output_type": "display_data"
    }
   ],
   "source": [
    "t_obs_to_plot = np.copy(log_itcs_m[:,:2000])\n",
    "idx = np.where( np.isnan(T_obs_plot) )\n",
    "t_obs_to_plot[idx] = np.nan\n",
    "\n",
    "# plt.imshow(  t_obs_to_plot, aspect='auto', origin='low', cmap='jet', interpolation='hanning' )\n",
    "\n",
    "plt.imshow(t_obs_to_plot,\n",
    "           extent=[times[0], times[-1], freqs[0], freqs[-1]],\n",
    "           aspect='auto', origin='lower', cmap='jet',interpolation='hanning')\n",
    "\n",
    "plt.colorbar()\n",
    "\n",
    "plt.xlabel('Time (s)', fontsize=14)\n",
    "plt.ylabel('Frequency (Hz)', fontsize=14)\n",
    "\n",
    "# plt.savefig('../Figures/ITC_permutations.pdf')\n",
    ";"
   ]
  }
 ],
 "metadata": {
  "kernelspec": {
   "display_name": "Python 3",
   "language": "python",
   "name": "python3"
  },
  "language_info": {
   "codemirror_mode": {
    "name": "ipython",
    "version": 3
   },
   "file_extension": ".py",
   "mimetype": "text/x-python",
   "name": "python",
   "nbconvert_exporter": "python",
   "pygments_lexer": "ipython3",
   "version": "3.7.0"
  }
 },
 "nbformat": 4,
 "nbformat_minor": 2
}
