{
 "cells": [
  {
   "cell_type": "markdown",
   "metadata": {},
   "source": [
    "# Quantify interaction between theta and low-gamma through distribution of P-episodes along theta phase\n",
    "\n",
    "### P-episodes ref: Vass et al, 2016 Neuron. [from Ekstrom lab]. In our analysis we set the \n",
    "### power threshold as the 70th percentile and episode duration at 3 cycles of corresponding frequency\n",
    "\n",
    "### Theta phase was computed by applying a band pass filter (2-8HZ) on the lfp signal, \n",
    "### Hilbert transform it, and extract the angular component of the envelope. "
   ]
  },
  {
   "cell_type": "code",
   "execution_count": 1,
   "metadata": {},
   "outputs": [],
   "source": [
    "## plot\n",
    "%matplotlib inline\n",
    "import matplotlib.pyplot as plt\n",
    "\n",
    "## operations\n",
    "import numpy as np\n",
    "from scipy.io import loadmat\n",
    "from scipy import signal\n",
    "from scipy.signal import butter, lfilter, hilbert, chirp\n",
    "\n",
    "from scipy import stats \n",
    "\n",
    "## time_frequency\n",
    "from mne.time_frequency import tfr_array_multitaper, psd_array_multitaper\n",
    "from mne.stats import permutation_cluster_1samp_test, permutation_cluster_test\n",
    "\n",
    "\n",
    "## pac\n",
    "# from pactools import Comodulogram, REFERENCES\n",
    "# from pactools import simulate_pac\n",
    "\n",
    "import pandas as pd\n",
    "\n",
    "from statsmodels.formula.api import ols, mixedlm\n",
    "import statsmodels.api as sm\n",
    "\n",
    "## Saving data dictionaries\n",
    "import pickle  "
   ]
  },
  {
   "cell_type": "markdown",
   "metadata": {},
   "source": [
    "# Load study related info"
   ]
  },
  {
   "cell_type": "code",
   "execution_count": 2,
   "metadata": {},
   "outputs": [],
   "source": [
    "## Load study related info\n",
    "with open('../Results/study_info.pickle', 'rb') as handle:\n",
    "    study_info = pickle.load(handle,encoding='latin1')\n",
    "    \n",
    "\n",
    "density        = study_info['density'] \n",
    "speed          = study_info['speed'] \n",
    "dd             = study_info['dd'] ## Number of sensory cues (density)\n",
    "dur            = study_info['dur'] ## Trial duration (sec)\n",
    "K_i_idx        = study_info['K_i_idx']\n",
    "K_i            = study_info['K_i']\n",
    "uni            = study_info['uni']\n",
    "t_dur          = study_info['t_dur']\n",
    "t_dd           = study_info['t_dd']\n",
    "sessions       = study_info['sessions'] \n",
    "ttl_idx        = study_info['ttl_idx']\n",
    "hpc_electrodes = study_info['hpc_electrodes']\n",
    "fs = study_info['fs']\n",
    "\n",
    "\n",
    "\n",
    "## Load trial markers for each session\n",
    "with open('../Results/trials_markers.pickle', 'rb') as handle:\n",
    "    trials_markers = pickle.load(handle,encoding='latin1')"
   ]
  },
  {
   "cell_type": "markdown",
   "metadata": {},
   "source": [
    "# Util functions for signal processing"
   ]
  },
  {
   "cell_type": "code",
   "execution_count": 3,
   "metadata": {},
   "outputs": [],
   "source": [
    "\"\"\"\n",
    "This cell contains useful functions to analyse the data\n",
    "\"\"\"\n",
    "\n",
    "def bandPassFilter(s,fL,fH,b,fs):\n",
    "    '''\n",
    "    s = data  \\n\n",
    "    fL =  #low Cutoff frequency (in (0, 0.5)). \\n\n",
    "    fH =  #high Cutoff frequency (in (0, 0.5)). \\n\n",
    "    b = 0.08  # Transition band      (in (0, 0.5)). \\n\n",
    "    N = int(np.ceil((4 / b))) \\n\n",
    "    '''\n",
    "    \n",
    "    fL = fL/float(fs)\n",
    "    fH = fH/float(fs)\n",
    "    b  = b/float(fs)\n",
    "    N = int(np.ceil((4 / b)))\n",
    "    \n",
    "    if not N % 2: N += 1  # Make sure that N is odd.\n",
    "    n = np.arange(N)\n",
    "\n",
    "    # Compute a low-pass filter with cutoff frequency fH.\n",
    "    hlpf = np.sinc(2 * fH * (n - (N - 1) / 2.))\n",
    "    hlpf *= np.blackman(N)\n",
    "    hlpf = hlpf / np.sum(hlpf)\n",
    "\n",
    "    # Compute a high-pass filter with cutoff frequency fL.\n",
    "    hhpf = np.sinc(2 * fL * (n - (N - 1) / 2.))\n",
    "    hhpf *= np.blackman(N)\n",
    "    hhpf = hhpf / np.sum(hhpf)\n",
    "    hhpf = -hhpf\n",
    "    hhpf[ ((N - 1) / 2).astype(int) ] += 1\n",
    "\n",
    "    # Convolve both filters.\n",
    "    h = np.convolve(hlpf, hhpf)\n",
    "    mar = (len(h)-1)/2\n",
    "    return np.convolve(s,h)\n",
    "\n",
    "\n",
    "def bandpass_filter_conv( data, low_freq, high_freq, fs ):\n",
    "\n",
    "    fL =  float(low_freq) / fs\n",
    "    fH =  float(high_freq) / fs\n",
    "\n",
    "    b = 0.08\n",
    "    N = int(np.ceil((4 / b)))\n",
    "    if not N % 2: N += 1  # Make sure that N is odd.\n",
    "    n = np.arange(N)\n",
    "\n",
    "    # low-pass filter\n",
    "    hlpf = np.sinc(2 * fH * (n - (N - 1) / 2.))\n",
    "    hlpf *= np.blackman(N)\n",
    "    hlpf = hlpf / np.sum(hlpf)\n",
    "\n",
    "    # high-pass filter \n",
    "    hhpf = np.sinc(2 * fL * (n - (N - 1) / 2.))\n",
    "    hhpf *= np.blackman(N)\n",
    "    hhpf = hhpf / np.sum(hhpf)\n",
    "    hhpf = -hhpf\n",
    "    hhpf[int((N - 1) / 2)] += 1\n",
    "\n",
    "    h = np.convolve(hlpf, hhpf)\n",
    "    new_signal = np.convolve(data, h)\n",
    "    \n",
    "    return new_signal\n",
    "\n",
    "\n",
    "def butter_bandpass(lowcut, highcut, fs, order=5):\n",
    "    nyq = 0.5 * fs\n",
    "    low = lowcut / nyq\n",
    "    high = highcut / nyq\n",
    "    b, a = butter(order, [low, high], btype='band')\n",
    "    return b, a\n",
    "\n",
    "def butter_bandpass_filter(data, lowcut, highcut, fs, order=5):\n",
    "    b, a = butter_bandpass(lowcut, highcut, fs, order=order)\n",
    "    y = lfilter(b, a, data)\n",
    "    return y\n",
    "\n",
    "\n",
    "def smooth_signal(p, sz=40, sigma=10):\n",
    "    '''\n",
    "        sz :  length of gaussFilter vector\n",
    "        sigma = 10     \n",
    "    '''    \n",
    "    x = np.linspace(-sz / 2, sz / 2, sz);\n",
    "    gaussFilter = np.exp(-x** 2 / (2 * sigma**2));\n",
    "    gaussFilter = gaussFilter / sum (gaussFilter); # normalize\n",
    "    pp = np.convolve(p, gaussFilter, 'same');    \n",
    "    return pp"
   ]
  },
  {
   "cell_type": "markdown",
   "metadata": {},
   "source": [
    "# Compute P_episodes in low gamma (25-49Hz) and their relation with theta (2-8Hz) phase\n",
    "\n",
    "### Be aware: it takes a dozen of minutes to compute the following cell"
   ]
  },
  {
   "cell_type": "code",
   "execution_count": 4,
   "metadata": {},
   "outputs": [],
   "source": [
    "### Log P-episodes phase for all sessions\n",
    "p_epi_all = []\n",
    "p_epi_all_phase = []\n",
    "\n",
    "\n",
    "### Run each session\n",
    "for sub in range(len(sessions)):\n",
    "\n",
    "    ### Load this session dataset\n",
    "    lfp = loadmat('../Data/'+sessions[sub]+'.mat')\n",
    "    lfp = lfp['ourData']\n",
    "    \n",
    "    \n",
    "    ### index of all trials start in this session\n",
    "    idx_trials = trials_markers[sessions[sub]]\n",
    "\n",
    "    ### temp list of P-episodes for this session\n",
    "    p_epi_sub = []\n",
    "    p_epi_sub_phase = []\n",
    "\n",
    "    \n",
    "    ### Loop through this session/patient hippocampal channel\n",
    "    for cc in hpc_electrodes[sub]:\n",
    "        \n",
    "        ### Get this channel LFP \n",
    "        tmp_lfp = lfp[cc] \n",
    "\n",
    "        ### get power\n",
    "        freqs = np.logspace(*np.log10([1, 49]), num=60) # define frequencies of interest (log-spaced)\n",
    "        n_cycles = freqs / 2.  # different number of cycle per frequency\n",
    "        power = tfr_array_multitaper(  [[ tmp_lfp ]] , fs, freqs=freqs, output='power' ) # extract power spectrogram\n",
    "        power = power[0,0]\n",
    "        power_zs = stats.zscore(power)  # Zscore spectrogram \n",
    "        \n",
    "        \n",
    "        #### theta band passed signal\n",
    "        lfp_band_pass =  bandpass_filter_conv( tmp_lfp, 2, 8, fs ) # butter_bandpass_filter( tmp_lfp, 1, 8, fs, order=4)\n",
    "\n",
    "        \n",
    "        ### List of episodes in this channel\n",
    "        tmp_p_episodes = []\n",
    "\n",
    "        ### Frequencies of interest: 25-49Hz. l_f and h_f are their index in the spectrogram\n",
    "        l_f = np.abs(freqs - 25.).argmin()\n",
    "        h_f = np.abs(freqs - 49.).argmin()\n",
    "\n",
    "        Dt_n_cycles = 3  ### P-episode duration criteria\n",
    "        \n",
    "        \n",
    "        \n",
    "        ### For logging purposes\n",
    "        p_epi_contact = []\n",
    "        p_epi_contact_phase = []\n",
    "        \n",
    "        ### Loop through each frequency of interest\n",
    "        for fff in range(l_f, h_f):\n",
    "\n",
    "            ### Set threshold of power activity in the zscored power of each frequency\n",
    "            thresh = np.percentile(power_zs[fff],70)  \n",
    "\n",
    "            ### a binnary vector to include detected moments where power was above thresh \n",
    "            p_epi = np.zeros_like( power_zs[fff] )\n",
    "            p_epi[ power_zs[fff] > thresh ] = 1\n",
    "\n",
    "            ### Duration of P-episode criteria for this frequency\n",
    "            Dt_duration = fs/ freqs[fff] * Dt_n_cycles\n",
    "\n",
    "            ### First derivative of the moments where high power is met will allow us to check for duration criteria\n",
    "            p_epi_diff = np.diff(p_epi)\n",
    "\n",
    "            p_epi_diff_u = np.where(p_epi_diff==1)[0]\n",
    "            p_epi_diff_d = np.where(p_epi_diff==-1)[0]\n",
    "\n",
    "            if p_epi_diff_d.size != p_epi_diff_u.size:\n",
    "                if p_epi_diff_u[0] - p_epi_diff_d[0] < 0:  p_epi_diff_u = p_epi_diff_u[:-1]\n",
    "                else:  p_epi_diff_d = p_epi_diff_d[:-1]\n",
    "\n",
    "\n",
    "            idx_p_epi = np.where( np.abs(p_epi_diff_u - p_epi_diff_d) >= Dt_duration )[0]\n",
    "            idx_p_epi = p_epi_diff_u[idx_p_epi]\n",
    "            \n",
    "\n",
    "            p_epi_trial = []   ## count number of p_episodes in each trial\n",
    "            p_epi_trial_phase = []   ## count number of p_episodes in each trial\n",
    "            \n",
    "            ### Here we already got the P-episodes throught the experiment. \n",
    "            ### Now, lets look at the ones in each trial and save the theta phase where they occur\n",
    "            for tt in trials_markers[sessions[sub]]:\n",
    "                \n",
    "                \n",
    "                ### Get the Hilbert of this LFP band passed and extract its phase\n",
    "                analytic_signal = hilbert(lfp_band_pass[tt:tt+int(fs*8.)])\n",
    "                phase = np.angle(analytic_signal)\n",
    "\n",
    "                ### Find P-episodes in this trial\n",
    "                ss = np.where(  np.logical_and( idx_p_epi > tt , idx_p_epi < tt+ fs*8. ))[0]\n",
    "                ss_size = ss.size\n",
    "                \n",
    "                \n",
    "                p_epi_trial.append( ss )\n",
    "                \n",
    "                ### Save the theta phase of each P-episode \n",
    "                if ss_size>0 :\n",
    "                    p_epi_trial_phase.append( phase[ss] )\n",
    "                else: p_epi_trial_phase.append( [] )\n",
    "                \n",
    "                \n",
    "            p_epi_contact.append( p_epi_trial )\n",
    "            p_epi_contact_phase.append(p_epi_trial_phase)\n",
    "            \n",
    "        p_epi_sub.append( p_epi_contact )\n",
    "        p_epi_sub_phase.append( p_epi_contact_phase )\n",
    "        \n",
    "    p_epi_all.append( p_epi_sub )\n",
    "    p_epi_all_phase.append(p_epi_sub_phase)\n"
   ]
  },
  {
   "cell_type": "markdown",
   "metadata": {},
   "source": [
    "# Distribution of number of P_episodes per theta phase\n",
    "### All trials"
   ]
  },
  {
   "cell_type": "code",
   "execution_count": 125,
   "metadata": {},
   "outputs": [
    {
     "data": {
      "image/png": "[encoded data removed]",
      "text/plain": [
       "<Figure size 1296x504 with 8 Axes>"
      ]
     },
     "metadata": {
      "needs_background": "light"
     },
     "output_type": "display_data"
    }
   ],
   "source": [
    "### Compute PAC for all trials together\n",
    "\n",
    "### Data list (array) containing phase of P-episodes (p_epi_all_phase) has the following structure:\n",
    "### Subject -> hippocampal channel (contact) -> frequency -> trial -> list of P-episodes theta phase (if they exist)\n",
    "\n",
    "plt.figure(figsize=(18,7))\n",
    "for sub in range(len(p_epi_all_phase)):\n",
    "\n",
    "    phaaa = []\n",
    "\n",
    "    for contact in range( len(p_epi_all_phase[sub])):\n",
    "        for frequency in range(len(p_epi_all_phase[sub][contact])):\n",
    "            for trial in range(len(p_epi_all_phase[sub][contact][frequency])):\n",
    "                for kk in p_epi_all_phase[sub][contact][frequency][trial]:\n",
    "                    phaaa.append(kk)\n",
    "\n",
    "    phaaa = np.array(phaaa)\n",
    "    phaaa_2 = np.hstack((phaaa , phaaa+np.radians(360)))\n",
    "    \n",
    "    \n",
    "    num_bins = 30\n",
    "    pha_hist = np.histogram(phaaa, bins=int(num_bins))\n",
    "    phase_dist = pha_hist[0]\n",
    "    n_pevents = float(np.sum(phase_dist))\n",
    "    ppp = -1 * np.sum((phase_dist/n_pevents) * np.log((phase_dist/n_pevents)))\n",
    "    K_L = (np.log(num_bins) - ppp) / np.log(num_bins)\n",
    "    \n",
    "    plt.subplot(2,4,sub+1)\n",
    "    plt.title(  sessions[sub] + '   K_L = ' + str(np.round(K_L,3)))\n",
    "    plt.hist(phaaa_2,bins=num_bins, color='k');\n",
    "    plt.xticks( np.arange(-np.pi, 4*np.pi, np.pi) , np.rad2deg(np.arange(-np.pi, 4*np.pi, np.pi))  )\n",
    "\n",
    "\n",
    "# plt.savefig('../Figures/ppec_all.pdf')"
   ]
  },
  {
   "cell_type": "markdown",
   "metadata": {},
   "source": [
    "# Distribution of number of P_episodes per theta phase"
   ]
  },
  {
   "cell_type": "markdown",
   "metadata": {},
   "source": [
    "## Speed trial type"
   ]
  },
  {
   "cell_type": "code",
   "execution_count": 153,
   "metadata": {},
   "outputs": [],
   "source": [
    "K_L_all = [] \n",
    "for sub in range(len(p_epi_all_phase)):\n",
    "    \n",
    "    K_L_sub = []\n",
    "    \n",
    "    for ss in range(3):\n",
    "        \n",
    "        log_phases_at_speed = []\n",
    "                \n",
    "        ### Do you remember the speed and density variables?? We gonna use them now to split trials    \n",
    "        ### Here looking for the 3 condition of SPEED\n",
    "        trial_indx = np.where(speed==ss)[0]\n",
    "        \n",
    "        for trial in trial_indx:\n",
    "\n",
    "            for contact in range(len(p_epi_all_phase[sub])):\n",
    "\n",
    "                for freq in range(len(p_epi_all_phase[sub][contact])):\n",
    "\n",
    "                    log_phases_at_speed.append( p_epi_all_phase[sub][contact][freq][trial] )\n",
    "                    \n",
    "        \n",
    "        phaaa = np.concatenate(log_phases_at_speed)\n",
    "        num_bins = 20\n",
    "        pha_hist = np.histogram(phaaa, bins=int(num_bins))\n",
    "        phase_dist = pha_hist[0]\n",
    "        n_pevents = float(np.sum(phase_dist))\n",
    "        \n",
    "        ## There are some phases with no P-episodes, which leads to division by zero error. \n",
    "        ## To avoid that, I'll add one (fictional) event at each phase bin. \n",
    "        phase_dist += 1  \n",
    "        \n",
    "        ppp = -1 * np.sum((phase_dist/n_pevents) * np.log((phase_dist/n_pevents)))\n",
    "        K_L = (np.log(num_bins) - ppp) / np.log(num_bins)\n",
    "        \n",
    "        if np.isnan(K_L): print( sub, ss, len(phaaa))\n",
    "\n",
    "        K_L_sub.append(K_L)\n",
    "        \n",
    "    K_L_all.append(K_L_sub)"
   ]
  },
  {
   "cell_type": "code",
   "execution_count": 154,
   "metadata": {},
   "outputs": [
    {
     "data": {
      "text/plain": [
       "Text(0.5, 1.0, 'pval = 0.11')"
      ]
     },
     "execution_count": 154,
     "metadata": {},
     "output_type": "execute_result"
    },
    {
     "data": {
      "image/png": "[encoded data removed]",
      "text/plain": [
       "<Figure size 432x288 with 1 Axes>"
      ]
     },
     "metadata": {
      "needs_background": "light"
     },
     "output_type": "display_data"
    }
   ],
   "source": [
    "K_L_all = np.array(K_L_all)\n",
    "\n",
    "mmm_speed = np.mean(K_L_all,0)\n",
    "sss_speed = stats.sem(K_L_all,0)\n",
    "\n",
    "plt.errorbar( range(mmm_speed.size), mmm_speed, yerr=sss_speed )\n",
    "\n",
    "plt.xticks(  [0,1,2], ['L','M','H'])\n",
    "\n",
    "plt.xlabel('Speed condition', fontsize=16)\n",
    "plt.ylabel('Kullback-Leibler \\n divergence', fontsize=16)\n",
    "\n",
    "pval_speed = stats.pearsonr(np.tile(np.arange(3),K_L_all.shape[0]) , K_L_all.reshape(K_L_all.size))[1]\n",
    "pval_speed = np.round(pval_speed,3)\n",
    "plt.title('pval = ' + str(pval_speed))"
   ]
  },
  {
   "cell_type": "markdown",
   "metadata": {},
   "source": [
    "## Density trial type"
   ]
  },
  {
   "cell_type": "code",
   "execution_count": 155,
   "metadata": {},
   "outputs": [],
   "source": [
    "K_L_all = [] \n",
    "for sub in range(len(p_epi_all_phase)):\n",
    "    \n",
    "    K_L_sub = []\n",
    "    \n",
    "    for ss in range(3):\n",
    "        \n",
    "        log_phases_at_speed = []\n",
    "    \n",
    "        ### Do you remember the speed and density variables?? We gonna use them now to split trials    \n",
    "        ### Here looking for the 3 condition of DENSITY\n",
    "        trial_indx = np.where(density==ss)[0]\n",
    "        \n",
    "        for trial in trial_indx:\n",
    "\n",
    "            for contact in range(len(p_epi_all_phase[sub])):\n",
    "\n",
    "                for freq in range(len(p_epi_all_phase[sub][contact])):\n",
    "\n",
    "                    log_phases_at_speed.append( p_epi_all_phase[sub][contact][freq][trial] )\n",
    "                    \n",
    "        \n",
    "        phaaa = np.concatenate(log_phases_at_speed)\n",
    "        num_bins = 20\n",
    "        pha_hist = np.histogram(phaaa, bins=int(num_bins))\n",
    "        phase_dist = pha_hist[0]\n",
    "        n_pevents = float(np.sum(phase_dist))\n",
    "        \n",
    "        ## There are some phases with no P-episodes, which leads to division by zero error. \n",
    "        ## To avoid that, I'll add one (fictional) event at each phase bin. \n",
    "        phase_dist += 1  \n",
    "\n",
    "        ppp = -1 * np.sum((phase_dist/n_pevents) * np.log((phase_dist/n_pevents)))\n",
    "        K_L = (np.log(num_bins) - ppp) / np.log(num_bins)\n",
    "        \n",
    "        if np.isnan(K_L): print( sub, ss, len(phaaa) )\n",
    "\n",
    "        K_L_sub.append(K_L)\n",
    "        \n",
    "    K_L_all.append(K_L_sub)"
   ]
  },
  {
   "cell_type": "code",
   "execution_count": 156,
   "metadata": {},
   "outputs": [
    {
     "data": {
      "text/plain": [
       "Text(0.5, 1.0, 'pval = 0.945')"
      ]
     },
     "execution_count": 156,
     "metadata": {},
     "output_type": "execute_result"
    },
    {
     "data": {
      "image/png": "[encoded data removed]",
      "text/plain": [
       "<Figure size 432x288 with 1 Axes>"
      ]
     },
     "metadata": {
      "needs_background": "light"
     },
     "output_type": "display_data"
    }
   ],
   "source": [
    "K_L_all = np.array(K_L_all)\n",
    "\n",
    "mmm_density = np.mean(K_L_all,0)\n",
    "sss_density = stats.sem(K_L_all,0 )\n",
    "\n",
    "plt.errorbar( range(mmm_density.size), mmm_density, yerr=sss_density )\n",
    "\n",
    "plt.xticks(  [0,1,2], ['L','M','H'])\n",
    "\n",
    "plt.xlabel('Density condition', fontsize=16)\n",
    "plt.ylabel('Kullback-Leibler \\n divergence', fontsize=16)\n",
    "\n",
    "pval_density = stats.pearsonr(np.tile(np.arange(3),K_L_all.shape[0]) , K_L_all.reshape(K_L_all.size))[1]\n",
    "pval_density = np.round(pval_density,3)\n",
    "plt.title('pval = ' + str(pval_density))"
   ]
  },
  {
   "cell_type": "code",
   "execution_count": 157,
   "metadata": {},
   "outputs": [
    {
     "data": {
      "image/png": "[encoded data removed]",
      "text/plain": [
       "<Figure size 216x288 with 1 Axes>"
      ]
     },
     "metadata": {
      "needs_background": "light"
     },
     "output_type": "display_data"
    }
   ],
   "source": [
    "fig = plt.figure()\n",
    "ax = fig.add_subplot(111)\n",
    "\n",
    "fig.set_figheight(4)\n",
    "fig.set_figwidth(3)\n",
    "\n",
    "\n",
    "ax.errorbar( range(mmm_speed.size), mmm_speed, yerr=sss_speed, label='Speed',linewidth=3  )\n",
    "ax.errorbar( np.arange(mmm_density.size)+0.1, mmm_density, yerr=sss_density, label='Density',linewidth=3  )\n",
    "\n",
    "ax.spines['right'].set_visible(False)\n",
    "ax.spines['top'].set_visible(False)\n",
    "\n",
    "\n",
    "plt.sca(ax)\n",
    "plt.xticks( range(3) , ['L','M','H'] )\n",
    "plt.legend( frameon=False, loc='upper left')\n",
    "\n",
    "plt.ylabel('Kullback-Leibler \\n divergence', fontsize=16)\n",
    "plt.xlabel('Condition')\n",
    "\n",
    "plt.legend(loc='best')\n",
    "plt.xlim(-.3)\n",
    "plt.tight_layout()\n",
    "\n",
    "\n",
    "# plt.savefig('../Figures/coupling_speed_and_density.pdf')"
   ]
  },
  {
   "cell_type": "markdown",
   "metadata": {},
   "source": [
    "## Cues/sec trial type"
   ]
  },
  {
   "cell_type": "code",
   "execution_count": 158,
   "metadata": {},
   "outputs": [],
   "source": [
    "K_L_all = [] \n",
    "for sub in range(len(p_epi_all_phase)):\n",
    "\n",
    "\n",
    "    pac_by_K_info = [ [] for ii in range(uni.size)  ]\n",
    "\n",
    "    for ttt in range(uni.size):\n",
    "\n",
    "        kkk = np.where(  K_i == uni[ttt] )\n",
    "\n",
    "        hh = np.where( np.logical_and(  speed   == kkk[0],  density == kkk[1]  ) )\n",
    "\n",
    "        for trial in hh:\n",
    "            \n",
    "            for this_trial in trial:\n",
    "            \n",
    "                for contact in range(len(p_epi_all_phase[sub])):\n",
    "\n",
    "                        for freq in range(len(p_epi_all_phase[sub][contact])):\n",
    "\n",
    "                            log_phases_at_speed.append( p_epi_all_phase[sub][contact][freq][this_trial] )\n",
    "\n",
    "            phaaa = np.concatenate(log_phases_at_speed)\n",
    "            num_bins = 40\n",
    "            pha_hist = np.histogram(phaaa, bins=int(num_bins))\n",
    "            phase_dist = pha_hist[0]\n",
    "            n_pevents = float(np.sum(phase_dist))\n",
    "            phase_dist += 1\n",
    "\n",
    "            ppp = -1 * np.sum((phase_dist/n_pevents) * np.log((phase_dist/n_pevents)))\n",
    "            K_L = (np.log(num_bins) - ppp) / np.log(num_bins)\n",
    "\n",
    "            \n",
    "            pac_by_K_info[ttt] = K_L\n",
    "\n",
    "    K_L_all.append(pac_by_K_info)\n",
    "    \n",
    "    \n",
    "K_L_all = np.array(K_L_all)"
   ]
  },
  {
   "cell_type": "code",
   "execution_count": 159,
   "metadata": {},
   "outputs": [
    {
     "name": "stderr",
     "output_type": "stream",
     "text": [
      "No handles with labels found to put in legend.\n"
     ]
    },
    {
     "data": {
      "image/png": "[encoded data removed]",
      "text/plain": [
       "<Figure size 432x288 with 1 Axes>"
      ]
     },
     "metadata": {
      "needs_background": "light"
     },
     "output_type": "display_data"
    }
   ],
   "source": [
    "fig = plt.figure()\n",
    "ax = fig.add_subplot(111)\n",
    "\n",
    "fig.set_figheight(4)\n",
    "fig.set_figwidth(6)\n",
    "\n",
    "\n",
    "mmm = np.mean(K_L_all,0)\n",
    "sss = stats.sem(K_L_all,0) \n",
    "\n",
    "\n",
    "plt.errorbar( uni, mmm, yerr=sss, linewidth=3 )\n",
    "\n",
    "\n",
    "idx_mod = np.repeat(uni, K_L_all.shape[0]).reshape(  K_L_all.shape[0], K_L_all.shape[1] )\n",
    "x = np.ravel(idx_mod)\n",
    "y = np.ravel(K_L_all)\n",
    "pval = stats.pearsonr(x,y)\n",
    "\n",
    "# plt.title('Pval ' + str(pval))\n",
    "    \n",
    "ax.spines['right'].set_visible(False)\n",
    "ax.spines['top'].set_visible(False)\n",
    "\n",
    "plt.sca(ax)\n",
    "plt.legend( frameon=False, loc='upper left')\n",
    "\n",
    "plt.xlabel('# of cues per sec', fontsize=16)\n",
    "plt.ylabel('Kullback-Leibler \\n divergence', fontsize=16)\n",
    "\n",
    "plt.tight_layout()\n",
    "# plt.savefig('../Figures/p_epi_divergence_n_cues_sec.pdf')\n"
   ]
  },
  {
   "cell_type": "markdown",
   "metadata": {},
   "source": [
    "# This experiment is composed by Speed and Density variables.\n",
    "#### Each variable modulates the amount of sensory information per time window at which the patient is exposed to.\n",
    "#### We gonna combine these two variables in a single dimension: Number of local cues per second\n",
    "\n",
    "### Speed affected the duration of each lap (trial)\n",
    "\n",
    "#### Speed\n",
    "\n",
    "\\begin{array}{rr} \\hline\n",
    "Speed condition &low &medium &high  \\\\ \\hline\n",
    "Duration (sec) &18.1 &13.5 &11 \\\\ \\hline\n",
    "\\end{array}\n",
    "\n",
    "\n",
    "#### Density\n",
    "\n",
    "\\begin{array}{rr} \\hline\n",
    "Density condition &low &medium &high  \\\\ \\hline\n",
    "Local cues in lap (number) &50 &100 &150 \\\\ \\hline\n",
    "\\end{array}\n",
    "\n",
    "\n"
   ]
  },
  {
   "cell_type": "code",
   "execution_count": 160,
   "metadata": {},
   "outputs": [],
   "source": [
    "K_L_all = [] \n",
    "for sub in range(len(p_epi_all_phase)):\n",
    "\n",
    "\n",
    "    pac_by_K_info = [ [] for ii in range(uni.size)  ]\n",
    "\n",
    "    for ttt in range(uni.size):\n",
    "\n",
    "        kkk = np.where(  K_i == uni[ttt] )    \n",
    "\n",
    "        hh = np.where( np.logical_and(  speed   == kkk[0],  density == kkk[1]  ) )\n",
    "\n",
    "        \n",
    "        for trial in hh:\n",
    "            \n",
    "            for this_trial in trial:\n",
    "            \n",
    "                for contact in range(len(p_epi_all_phase[sub])):\n",
    "\n",
    "                        for freq in range(len(p_epi_all_phase[sub][contact])):\n",
    "\n",
    "                            log_phases_at_speed.append( p_epi_all_phase[sub][contact][freq][this_trial] )\n",
    "\n",
    "            phaaa = np.concatenate(log_phases_at_speed)\n",
    "            num_bins = 40\n",
    "            pha_hist = np.histogram(phaaa, bins=int(num_bins))\n",
    "            phase_dist = pha_hist[0]\n",
    "            n_pevents = float(np.sum(phase_dist))\n",
    "            phase_dist += 1\n",
    "\n",
    "            ppp = -1 * np.sum((phase_dist/n_pevents) * np.log((phase_dist/n_pevents)))\n",
    "            K_L = (np.log(num_bins) - ppp) / np.log(num_bins)\n",
    "\n",
    "            \n",
    "            pac_by_K_info[ttt] = K_L\n",
    "\n",
    "    K_L_all.append(pac_by_K_info)\n",
    "    \n",
    "    \n",
    "K_L_all = np.array(K_L_all)"
   ]
  },
  {
   "cell_type": "code",
   "execution_count": 161,
   "metadata": {},
   "outputs": [
    {
     "data": {
      "text/plain": [
       "[<matplotlib.lines.Line2D at 0x125273358>]"
      ]
     },
     "execution_count": 161,
     "metadata": {},
     "output_type": "execute_result"
    },
    {
     "data": {
      "image/png": "[encoded data removed]",
      "text/plain": [
       "<Figure size 432x288 with 1 Axes>"
      ]
     },
     "metadata": {
      "needs_background": "light"
     },
     "output_type": "display_data"
    }
   ],
   "source": [
    "mm1 = np.mean(K_L_all,axis=0)\n",
    "ss1 = stats.sem(K_L_all,axis=0)\n",
    "\n",
    "# plt.errorbar(  uni, mm1, yerr=ss1 )\n",
    "\n",
    "\n",
    "plt.fill_between( uni, mm1-ss1, mm1+ss1, alpha=0.3  )\n",
    "plt.plot( uni, mm1 )"
   ]
  },
  {
   "cell_type": "code",
   "execution_count": 135,
   "metadata": {},
   "outputs": [
    {
     "data": {
      "text/plain": [
       "[<matplotlib.lines.Line2D at 0x124d15fd0>,\n",
       " <matplotlib.lines.Line2D at 0x124d1c160>,\n",
       " <matplotlib.lines.Line2D at 0x124d1c2b0>,\n",
       " <matplotlib.lines.Line2D at 0x124d1c400>,\n",
       " <matplotlib.lines.Line2D at 0x124d1c550>,\n",
       " <matplotlib.lines.Line2D at 0x124d1c6a0>,\n",
       " <matplotlib.lines.Line2D at 0x124d1c7f0>,\n",
       " <matplotlib.lines.Line2D at 0x124d1c940>]"
      ]
     },
     "execution_count": 135,
     "metadata": {},
     "output_type": "execute_result"
    },
    {
     "data": {
      "image/png": "[encoded data removed]",
      "text/plain": [
       "<Figure size 432x288 with 1 Axes>"
      ]
     },
     "metadata": {
      "needs_background": "light"
     },
     "output_type": "display_data"
    }
   ],
   "source": [
    "plt.plot(  K_L_all.T )"
   ]
  }
 ],
 "metadata": {
  "kernelspec": {
   "display_name": "Python 3",
   "language": "python",
   "name": "python3"
  },
  "language_info": {
   "codemirror_mode": {
    "name": "ipython",
    "version": 3
   },
   "file_extension": ".py",
   "mimetype": "text/x-python",
   "name": "python",
   "nbconvert_exporter": "python",
   "pygments_lexer": "ipython3",
   "version": "3.7.0"
  }
 },
 "nbformat": 4,
 "nbformat_minor": 2
}
