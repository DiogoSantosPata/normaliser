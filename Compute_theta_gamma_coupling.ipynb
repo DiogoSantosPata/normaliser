{
 "cells": [
  {
   "cell_type": "markdown",
   "metadata": {},
   "source": [
    "# Quantify interaction between theta and low-gamma"
   ]
  },
  {
   "cell_type": "code",
   "execution_count": 2,
   "metadata": {},
   "outputs": [],
   "source": [
    "## plot\n",
    "%matplotlib inline\n",
    "import matplotlib\n",
    "import matplotlib.pyplot as plt\n",
    "\n",
    "## operations\n",
    "import numpy as np\n",
    "from scipy.io import loadmat\n",
    "from scipy import signal\n",
    "from scipy.signal import butter, lfilter, hilbert, chirp\n",
    "from scipy import stats\n",
    "from scipy.stats import binned_statistic\n",
    "\n",
    "\n",
    "## time_frequency\n",
    "import mne\n",
    "from mne.time_frequency import tfr_array_multitaper, psd_array_multitaper\n",
    "from mne.stats import permutation_cluster_1samp_test, permutation_cluster_test\n",
    "\n",
    "\n",
    "## pac\n",
    "# from pactools import Comodulogram, REFERENCES\n",
    "# from pactools import simulate_pac\n",
    "\n",
    "import pandas as pd\n",
    "\n",
    "from statsmodels.formula.api import ols, mixedlm\n",
    "import statsmodels.api as sm\n",
    "\n",
    "## Saving data dictionaries\n",
    "import pickle\n",
    "\n",
    "import PyQt5"
   ]
  },
  {
   "cell_type": "markdown",
   "metadata": {},
   "source": [
    "# Load study related info"
   ]
  },
  {
   "cell_type": "code",
   "execution_count": 4,
   "metadata": {},
   "outputs": [],
   "source": [
    "## Load study related info\n",
    "with open('../Results/study_info.pickle', 'rb') as handle:\n",
    "    study_info = pickle.load(handle,encoding='latin1')\n",
    "    \n",
    "\n",
    "density        = study_info['density'] \n",
    "speed          = study_info['speed'] \n",
    "dd             = study_info['dd'] ## Number of sensory cues (density)\n",
    "dur            = study_info['dur'] ## Trial duration (sec)\n",
    "K_i_idx        = study_info['K_i_idx']\n",
    "K_i            = study_info['K_i']\n",
    "uni            = study_info['uni']\n",
    "t_dur          = study_info['t_dur']\n",
    "t_dd           = study_info['t_dd']\n",
    "sessions       = study_info['sessions'] \n",
    "ttl_idx        = study_info['ttl_idx']\n",
    "hpc_electrodes = study_info['hpc_electrodes']\n",
    "fs             = study_info['fs']\n",
    "\n",
    "\n",
    "\n",
    "## Load trial markers for each session\n",
    "with open('../Results/trials_markers.pickle', 'rb') as handle:\n",
    "    trials_markers = pickle.load(handle,encoding='latin1')"
   ]
  },
  {
   "cell_type": "markdown",
   "metadata": {},
   "source": [
    "# Util functions for signal processing"
   ]
  },
  {
   "cell_type": "code",
   "execution_count": 182,
   "metadata": {},
   "outputs": [],
   "source": [
    "def hilbert_transform(tmp_lfp_notch, fs, l_f_amp,h_f_amp):\n",
    "\n",
    "    info = mne.create_info(ch_names=['lfp'], sfreq=fs, ch_types=['eeg'])\n",
    "    raw = mne.io.RawArray([tmp_lfp_notch], info)\n",
    "\n",
    "    raw_band = raw.copy()\n",
    "    raw_band.filter(2, 8, l_trans_bandwidth=2., h_trans_bandwidth=2., fir_design='firwin')\n",
    "    raw_hilb = raw_band.copy()\n",
    "    hilb_picks = mne.pick_types(raw_band.info, meg=False, eeg=True)\n",
    "    raw_hilb.apply_hilbert(hilb_picks)\n",
    "    raw_phase = raw_hilb.copy()\n",
    "    raw_phase.apply_function(np.angle, hilb_picks)\n",
    "    raw_phase = raw_phase.get_data()[0].real\n",
    "\n",
    "    raw_band = raw.copy()\n",
    "    raw_band.filter(l_f_amp,h_f_amp, l_trans_bandwidth=2., h_trans_bandwidth=2., fir_design='firwin')\n",
    "    raw_hilb = raw_band.copy()\n",
    "    hilb_picks = mne.pick_types(raw_band.info, meg=False, eeg=True)\n",
    "    raw_hilb.apply_hilbert(hilb_picks)\n",
    "    raw_amp = raw_hilb.copy()\n",
    "    raw_amp.apply_function(np.abs, hilb_picks)\n",
    "    raw_amp = raw_amp.get_data()[0].real\n",
    "\n",
    "    return raw_phase, raw_amp\n",
    "\n",
    "\n",
    "\n",
    "\n",
    "def hilbert_transform_get_component(tmp_lfp_notch, fs, low_amp_freq,high_amp_freq, component):\n",
    "    \n",
    "    '''\n",
    "    Transform signal and get either phase or amplitude component\n",
    "    component: 'phase' or 'amplitude'\n",
    "    '''\n",
    "\n",
    "    info = mne.create_info(ch_names=['lfp'], sfreq=fs, ch_types=['eeg'])\n",
    "    raw = mne.io.RawArray([tmp_lfp_notch], info)\n",
    "    \n",
    "    if component == 'phase':\n",
    "\n",
    "        raw_band = raw.copy()\n",
    "        raw_band.filter(low_amp_freq,high_amp_freq, l_trans_bandwidth=2., h_trans_bandwidth=2., fir_design='firwin')\n",
    "        raw_hilb = raw_band.copy()\n",
    "        hilb_picks = mne.pick_types(raw_band.info, meg=False, eeg=True)\n",
    "        raw_hilb.apply_hilbert(hilb_picks)\n",
    "        raw_out = raw_hilb.copy()\n",
    "        raw_out.apply_function(np.angle, hilb_picks)\n",
    "        raw_out = raw_out.get_data()[0].real\n",
    "        \n",
    "    if component == 'amplitude':\n",
    "\n",
    "\n",
    "        raw_band = raw.copy()\n",
    "        raw_band.filter(low_amp_freq,high_amp_freq, l_trans_bandwidth=2., h_trans_bandwidth=2., fir_design='firwin')\n",
    "        raw_hilb = raw_band.copy()\n",
    "        hilb_picks = mne.pick_types(raw_band.info, meg=False, eeg=True)\n",
    "        raw_hilb.apply_hilbert(hilb_picks)\n",
    "        raw_out = raw_hilb.copy()\n",
    "        raw_out.apply_function(np.abs, hilb_picks)\n",
    "        raw_out = raw_out.get_data()[0].real\n",
    "\n",
    "    return raw_out\n",
    "\n",
    "\n",
    "\n",
    "\n",
    "\n",
    "def calculate_KB(bs):\n",
    "\n",
    "    'PAD is the phase amp distribution'\n",
    "    pad = bs[0]\n",
    "    pad_2 = np.hstack((pad , pad))\n",
    "\n",
    "    num_bins = pad_2.size\n",
    "    n_pevents = float(np.sum(pad_2))\n",
    "    ppp = -1 * np.sum((pad_2/n_pevents) * np.log((pad_2/n_pevents)))\n",
    "    K_L = (np.log(num_bins) - ppp) / np.log(num_bins)\n",
    "\n",
    "    return K_L\n"
   ]
  },
  {
   "cell_type": "markdown",
   "metadata": {},
   "source": [
    "# Compute coupling"
   ]
  },
  {
   "cell_type": "code",
   "execution_count": 57,
   "metadata": {
    "scrolled": true
   },
   "outputs": [
    {
     "name": "stdout",
     "output_type": "stream",
     "text": [
      "Setting up band-stop filter\n",
      "Filter length of 3379 samples (6.600 sec) selected\n",
      "Creating RawArray with float64 data, n_channels=1, n_times=209001\n",
      "    Range : 0 ... 209000 =      0.000 ...   408.203 secs\n",
      "Ready.\n",
      "Setting up band-pass filter from 2 - 8 Hz\n",
      "Filter length of 845 samples (1.650 sec) selected\n",
      "Setting up band-pass filter from 55 - 95 Hz\n",
      "Filter length of 845 samples (1.650 sec) selected\n",
      "Setting up band-stop filter\n",
      "Filter length of 3379 samples (6.600 sec) selected\n",
      "Creating RawArray with float64 data, n_channels=1, n_times=209001\n",
      "    Range : 0 ... 209000 =      0.000 ...   408.203 secs\n",
      "Ready.\n",
      "Setting up band-pass filter from 2 - 8 Hz\n",
      "Filter length of 845 samples (1.650 sec) selected\n",
      "Setting up band-pass filter from 55 - 95 Hz\n",
      "Filter length of 845 samples (1.650 sec) selected\n",
      "Setting up band-stop filter\n",
      "Filter length of 3379 samples (6.600 sec) selected\n",
      "Creating RawArray with float64 data, n_channels=1, n_times=209001\n",
      "    Range : 0 ... 209000 =      0.000 ...   408.203 secs\n",
      "Ready.\n",
      "Setting up band-pass filter from 2 - 8 Hz\n",
      "Filter length of 845 samples (1.650 sec) selected\n",
      "Setting up band-pass filter from 55 - 95 Hz\n",
      "Filter length of 845 samples (1.650 sec) selected\n",
      "Setting up band-stop filter\n",
      "Filter length of 3379 samples (6.600 sec) selected\n",
      "Creating RawArray with float64 data, n_channels=1, n_times=209001\n",
      "    Range : 0 ... 209000 =      0.000 ...   408.203 secs\n",
      "Ready.\n",
      "Setting up band-pass filter from 2 - 8 Hz\n",
      "Filter length of 845 samples (1.650 sec) selected\n",
      "Setting up band-pass filter from 55 - 95 Hz\n",
      "Filter length of 845 samples (1.650 sec) selected\n",
      "Setting up band-stop filter\n",
      "Filter length of 3379 samples (6.600 sec) selected\n",
      "Creating RawArray with float64 data, n_channels=1, n_times=204501\n",
      "    Range : 0 ... 204500 =      0.000 ...   399.414 secs\n",
      "Ready.\n",
      "Setting up band-pass filter from 2 - 8 Hz\n",
      "Filter length of 845 samples (1.650 sec) selected\n",
      "Setting up band-pass filter from 55 - 95 Hz\n",
      "Filter length of 845 samples (1.650 sec) selected\n",
      "Setting up band-stop filter\n",
      "Filter length of 3379 samples (6.600 sec) selected\n",
      "Creating RawArray with float64 data, n_channels=1, n_times=204501\n",
      "    Range : 0 ... 204500 =      0.000 ...   399.414 secs\n",
      "Ready.\n",
      "Setting up band-pass filter from 2 - 8 Hz\n",
      "Filter length of 845 samples (1.650 sec) selected\n",
      "Setting up band-pass filter from 55 - 95 Hz\n",
      "Filter length of 845 samples (1.650 sec) selected\n",
      "Setting up band-stop filter\n",
      "Filter length of 3379 samples (6.600 sec) selected\n",
      "Creating RawArray with float64 data, n_channels=1, n_times=204501\n",
      "    Range : 0 ... 204500 =      0.000 ...   399.414 secs\n",
      "Ready.\n",
      "Setting up band-pass filter from 2 - 8 Hz\n",
      "Filter length of 845 samples (1.650 sec) selected\n",
      "Setting up band-pass filter from 55 - 95 Hz\n",
      "Filter length of 845 samples (1.650 sec) selected\n",
      "Setting up band-stop filter\n",
      "Filter length of 3379 samples (6.600 sec) selected\n",
      "Creating RawArray with float64 data, n_channels=1, n_times=204501\n",
      "    Range : 0 ... 204500 =      0.000 ...   399.414 secs\n",
      "Ready.\n",
      "Setting up band-pass filter from 2 - 8 Hz\n",
      "Filter length of 845 samples (1.650 sec) selected\n",
      "Setting up band-pass filter from 55 - 95 Hz\n",
      "Filter length of 845 samples (1.650 sec) selected\n",
      "Setting up band-stop filter\n",
      "Filter length of 3379 samples (6.600 sec) selected\n",
      "Creating RawArray with float64 data, n_channels=1, n_times=220501\n",
      "    Range : 0 ... 220500 =      0.000 ...   430.664 secs\n",
      "Ready.\n",
      "Setting up band-pass filter from 2 - 8 Hz\n",
      "Filter length of 845 samples (1.650 sec) selected\n",
      "Setting up band-pass filter from 55 - 95 Hz\n",
      "Filter length of 845 samples (1.650 sec) selected\n",
      "Setting up band-stop filter\n",
      "Filter length of 3379 samples (6.600 sec) selected\n",
      "Creating RawArray with float64 data, n_channels=1, n_times=220501\n",
      "    Range : 0 ... 220500 =      0.000 ...   430.664 secs\n",
      "Ready.\n",
      "Setting up band-pass filter from 2 - 8 Hz\n",
      "Filter length of 845 samples (1.650 sec) selected\n",
      "Setting up band-pass filter from 55 - 95 Hz\n",
      "Filter length of 845 samples (1.650 sec) selected\n",
      "Setting up band-stop filter\n",
      "Filter length of 3379 samples (6.600 sec) selected\n",
      "Creating RawArray with float64 data, n_channels=1, n_times=220501\n",
      "    Range : 0 ... 220500 =      0.000 ...   430.664 secs\n",
      "Ready.\n",
      "Setting up band-pass filter from 2 - 8 Hz\n",
      "Filter length of 845 samples (1.650 sec) selected\n",
      "Setting up band-pass filter from 55 - 95 Hz\n",
      "Filter length of 845 samples (1.650 sec) selected\n",
      "Setting up band-stop filter\n",
      "Filter length of 3379 samples (6.600 sec) selected\n",
      "Creating RawArray with float64 data, n_channels=1, n_times=220501\n",
      "    Range : 0 ... 220500 =      0.000 ...   430.664 secs\n",
      "Ready.\n",
      "Setting up band-pass filter from 2 - 8 Hz\n",
      "Filter length of 845 samples (1.650 sec) selected\n",
      "Setting up band-pass filter from 55 - 95 Hz\n",
      "Filter length of 845 samples (1.650 sec) selected\n",
      "Setting up band-stop filter\n",
      "Filter length of 3379 samples (6.600 sec) selected\n",
      "Creating RawArray with float64 data, n_channels=1, n_times=215001\n",
      "    Range : 0 ... 215000 =      0.000 ...   419.922 secs\n",
      "Ready.\n",
      "Setting up band-pass filter from 2 - 8 Hz\n",
      "Filter length of 845 samples (1.650 sec) selected\n",
      "Setting up band-pass filter from 55 - 95 Hz\n",
      "Filter length of 845 samples (1.650 sec) selected\n",
      "Setting up band-stop filter\n",
      "Filter length of 3379 samples (6.600 sec) selected\n",
      "Creating RawArray with float64 data, n_channels=1, n_times=215001\n",
      "    Range : 0 ... 215000 =      0.000 ...   419.922 secs\n",
      "Ready.\n",
      "Setting up band-pass filter from 2 - 8 Hz\n",
      "Filter length of 845 samples (1.650 sec) selected\n",
      "Setting up band-pass filter from 55 - 95 Hz\n",
      "Filter length of 845 samples (1.650 sec) selected\n",
      "Setting up band-stop filter\n",
      "Filter length of 3379 samples (6.600 sec) selected\n",
      "Creating RawArray with float64 data, n_channels=1, n_times=215001\n",
      "    Range : 0 ... 215000 =      0.000 ...   419.922 secs\n",
      "Ready.\n",
      "Setting up band-pass filter from 2 - 8 Hz\n",
      "Filter length of 845 samples (1.650 sec) selected\n",
      "Setting up band-pass filter from 55 - 95 Hz\n",
      "Filter length of 845 samples (1.650 sec) selected\n",
      "Setting up band-stop filter\n",
      "Filter length of 3379 samples (6.600 sec) selected\n",
      "Creating RawArray with float64 data, n_channels=1, n_times=215001\n",
      "    Range : 0 ... 215000 =      0.000 ...   419.922 secs\n",
      "Ready.\n",
      "Setting up band-pass filter from 2 - 8 Hz\n",
      "Filter length of 845 samples (1.650 sec) selected\n",
      "Setting up band-pass filter from 55 - 95 Hz\n",
      "Filter length of 845 samples (1.650 sec) selected\n",
      "Setting up band-stop filter\n",
      "Filter length of 3379 samples (6.600 sec) selected\n",
      "Creating RawArray with float64 data, n_channels=1, n_times=205001\n",
      "    Range : 0 ... 205000 =      0.000 ...   400.391 secs\n",
      "Ready.\n",
      "Setting up band-pass filter from 2 - 8 Hz\n",
      "Filter length of 845 samples (1.650 sec) selected\n",
      "Setting up band-pass filter from 55 - 95 Hz\n",
      "Filter length of 845 samples (1.650 sec) selected\n",
      "Setting up band-stop filter\n",
      "Filter length of 3379 samples (6.600 sec) selected\n",
      "Creating RawArray with float64 data, n_channels=1, n_times=205001\n",
      "    Range : 0 ... 205000 =      0.000 ...   400.391 secs\n",
      "Ready.\n",
      "Setting up band-pass filter from 2 - 8 Hz\n",
      "Filter length of 845 samples (1.650 sec) selected\n",
      "Setting up band-pass filter from 55 - 95 Hz\n",
      "Filter length of 845 samples (1.650 sec) selected\n",
      "Setting up band-stop filter\n",
      "Filter length of 3379 samples (6.600 sec) selected\n",
      "Creating RawArray with float64 data, n_channels=1, n_times=205001\n",
      "    Range : 0 ... 205000 =      0.000 ...   400.391 secs\n",
      "Ready.\n",
      "Setting up band-pass filter from 2 - 8 Hz\n",
      "Filter length of 845 samples (1.650 sec) selected\n",
      "Setting up band-pass filter from 55 - 95 Hz\n",
      "Filter length of 845 samples (1.650 sec) selected\n",
      "Setting up band-stop filter\n",
      "Filter length of 3379 samples (6.600 sec) selected\n",
      "Creating RawArray with float64 data, n_channels=1, n_times=205001\n",
      "    Range : 0 ... 205000 =      0.000 ...   400.391 secs\n",
      "Ready.\n",
      "Setting up band-pass filter from 2 - 8 Hz\n",
      "Filter length of 845 samples (1.650 sec) selected\n",
      "Setting up band-pass filter from 55 - 95 Hz\n",
      "Filter length of 845 samples (1.650 sec) selected\n",
      "Setting up band-stop filter\n",
      "Filter length of 3379 samples (6.600 sec) selected\n",
      "Creating RawArray with float64 data, n_channels=1, n_times=205501\n",
      "    Range : 0 ... 205500 =      0.000 ...   401.367 secs\n",
      "Ready.\n",
      "Setting up band-pass filter from 2 - 8 Hz\n",
      "Filter length of 845 samples (1.650 sec) selected\n"
     ]
    },
    {
     "name": "stdout",
     "output_type": "stream",
     "text": [
      "Setting up band-pass filter from 55 - 95 Hz\n",
      "Filter length of 845 samples (1.650 sec) selected\n",
      "Setting up band-stop filter\n",
      "Filter length of 3379 samples (6.600 sec) selected\n",
      "Creating RawArray with float64 data, n_channels=1, n_times=205501\n",
      "    Range : 0 ... 205500 =      0.000 ...   401.367 secs\n",
      "Ready.\n",
      "Setting up band-pass filter from 2 - 8 Hz\n",
      "Filter length of 845 samples (1.650 sec) selected\n",
      "Setting up band-pass filter from 55 - 95 Hz\n",
      "Filter length of 845 samples (1.650 sec) selected\n",
      "Setting up band-stop filter\n",
      "Filter length of 3379 samples (6.600 sec) selected\n",
      "Creating RawArray with float64 data, n_channels=1, n_times=205501\n",
      "    Range : 0 ... 205500 =      0.000 ...   401.367 secs\n",
      "Ready.\n",
      "Setting up band-pass filter from 2 - 8 Hz\n",
      "Filter length of 845 samples (1.650 sec) selected\n",
      "Setting up band-pass filter from 55 - 95 Hz\n",
      "Filter length of 845 samples (1.650 sec) selected\n",
      "Setting up band-stop filter\n",
      "Filter length of 3379 samples (6.600 sec) selected\n",
      "Creating RawArray with float64 data, n_channels=1, n_times=205501\n",
      "    Range : 0 ... 205500 =      0.000 ...   401.367 secs\n",
      "Ready.\n",
      "Setting up band-pass filter from 2 - 8 Hz\n",
      "Filter length of 845 samples (1.650 sec) selected\n",
      "Setting up band-pass filter from 55 - 95 Hz\n",
      "Filter length of 845 samples (1.650 sec) selected\n",
      "Setting up band-stop filter\n",
      "Filter length of 3379 samples (6.600 sec) selected\n",
      "Creating RawArray with float64 data, n_channels=1, n_times=203501\n",
      "    Range : 0 ... 203500 =      0.000 ...   397.461 secs\n",
      "Ready.\n",
      "Setting up band-pass filter from 2 - 8 Hz\n",
      "Filter length of 845 samples (1.650 sec) selected\n",
      "Setting up band-pass filter from 55 - 95 Hz\n",
      "Filter length of 845 samples (1.650 sec) selected\n",
      "Setting up band-stop filter\n",
      "Filter length of 3379 samples (6.600 sec) selected\n",
      "Creating RawArray with float64 data, n_channels=1, n_times=203501\n",
      "    Range : 0 ... 203500 =      0.000 ...   397.461 secs\n",
      "Ready.\n",
      "Setting up band-pass filter from 2 - 8 Hz\n",
      "Filter length of 845 samples (1.650 sec) selected\n",
      "Setting up band-pass filter from 55 - 95 Hz\n",
      "Filter length of 845 samples (1.650 sec) selected\n",
      "Setting up band-stop filter\n",
      "Filter length of 3379 samples (6.600 sec) selected\n",
      "Creating RawArray with float64 data, n_channels=1, n_times=203501\n",
      "    Range : 0 ... 203500 =      0.000 ...   397.461 secs\n",
      "Ready.\n",
      "Setting up band-pass filter from 2 - 8 Hz\n",
      "Filter length of 845 samples (1.650 sec) selected\n",
      "Setting up band-pass filter from 55 - 95 Hz\n",
      "Filter length of 845 samples (1.650 sec) selected\n",
      "Setting up band-stop filter\n",
      "Filter length of 3379 samples (6.600 sec) selected\n",
      "Creating RawArray with float64 data, n_channels=1, n_times=203501\n",
      "    Range : 0 ... 203500 =      0.000 ...   397.461 secs\n",
      "Ready.\n",
      "Setting up band-pass filter from 2 - 8 Hz\n",
      "Filter length of 845 samples (1.650 sec) selected\n",
      "Setting up band-pass filter from 55 - 95 Hz\n",
      "Filter length of 845 samples (1.650 sec) selected\n",
      "Setting up band-stop filter\n",
      "Filter length of 3379 samples (6.600 sec) selected\n",
      "Creating RawArray with float64 data, n_channels=1, n_times=221001\n",
      "    Range : 0 ... 221000 =      0.000 ...   431.641 secs\n",
      "Ready.\n",
      "Setting up band-pass filter from 2 - 8 Hz\n",
      "Filter length of 845 samples (1.650 sec) selected\n",
      "Setting up band-pass filter from 55 - 95 Hz\n",
      "Filter length of 845 samples (1.650 sec) selected\n",
      "Setting up band-stop filter\n",
      "Filter length of 3379 samples (6.600 sec) selected\n",
      "Creating RawArray with float64 data, n_channels=1, n_times=221001\n",
      "    Range : 0 ... 221000 =      0.000 ...   431.641 secs\n",
      "Ready.\n",
      "Setting up band-pass filter from 2 - 8 Hz\n",
      "Filter length of 845 samples (1.650 sec) selected\n",
      "Setting up band-pass filter from 55 - 95 Hz\n",
      "Filter length of 845 samples (1.650 sec) selected\n"
     ]
    }
   ],
   "source": [
    "l_f_amp,h_f_amp= 55,95\n",
    "\n",
    "\n",
    "amp_phase = {}\n",
    "\n",
    "### Run each session\n",
    "for sub in range(len(sessions)):\n",
    "    \n",
    "    amp_phase[sub] = {}\n",
    "    amp_phase[sub]['phase'] = []\n",
    "    amp_phase[sub]['amp'] = []\n",
    "    \n",
    "    ### Load this session dataset\n",
    "    lfp = loadmat('../Data/'+sessions[sub]+'.mat')\n",
    "    lfp = lfp['ourData']\n",
    "    \n",
    "    \n",
    "    ### Loop through this session/patient hippocampal channel\n",
    "    for cc in hpc_electrodes[sub]:\n",
    "        \n",
    "        ### Get this channel LFP \n",
    "        tmp_lfp = lfp[cc]         \n",
    "        \n",
    "        tmp_lfp_notch = mne.filter.notch_filter( np.float64(tmp_lfp), fs, [50,100,150,200], notch_widths=20 )\n",
    "        raw_phase, raw_amp = hilbert_transform(tmp_lfp_notch, fs,l_f_amp,h_f_amp)\n",
    "\n",
    "        amp_phase[sub]['phase'].append( raw_phase)\n",
    "        amp_phase[sub]['amp'].append( raw_amp)"
   ]
  },
  {
   "cell_type": "markdown",
   "metadata": {},
   "source": [
    "# Distribution of PAC\n",
    "### All trials"
   ]
  },
  {
   "cell_type": "code",
   "execution_count": 58,
   "metadata": {},
   "outputs": [],
   "source": [
    "trial_begin           = 0\n",
    "trial_end             = 1500#4000\n",
    "# trial_begin           = 0\n",
    "# trial_end             = 1500\n",
    "\n",
    "\n",
    "## Trial type\n",
    "tmp_density = np.tile( np.repeat( np.arange(3), 3 ),3)\n",
    "tmp_speed = np.tile( np.arange(3), 9 )\n",
    "tmp_dur = [ 18.1, 13.5, 11]\n",
    "tmp_dd = [50,100,150]\n",
    "\n",
    "\n",
    "log_pac = []\n",
    "for sub in range(len(sessions)):\n",
    "\n",
    "    idx_trials = trials_markers[sessions[sub]]\n",
    "\n",
    "    \n",
    "    for cc in range(len(amp_phase[sub]['amp'])):\n",
    "\n",
    "        tmp_amp = amp_phase[sub]['amp'][cc]\n",
    "        tmp_phase = amp_phase[sub]['phase'][cc]\n",
    "\n",
    "        \n",
    "        for trial in range(len(idx_trials)):\n",
    "            \n",
    "            tmp_tmp_amp = tmp_amp[ idx_trials[trial] + trial_begin : idx_trials[trial] + trial_end ]\n",
    "            tmp_tmp_phase = tmp_phase[ idx_trials[trial] + trial_begin : idx_trials[trial] + trial_end ]\n",
    "            \n",
    "            bs = binned_statistic(tmp_tmp_phase,tmp_tmp_amp)\n",
    "            kb = calculate_KB(bs)\n",
    "\n",
    "            cs = tmp_dd[tmp_density[trial]]/tmp_dur[tmp_speed[trial]]\n",
    "            csw = np.argmin(np.abs(cs-np.linspace(2,14,4)))\n",
    "            log_pac.append( [sub, tmp_density[trial], tmp_speed[trial], cs, csw, kb] )\n",
    "            \n",
    "            \n",
    "            "
   ]
  },
  {
   "cell_type": "code",
   "execution_count": 59,
   "metadata": {},
   "outputs": [],
   "source": [
    "log_pac = pd.DataFrame(log_pac, columns=['sub','density','speed','cuesec','cuesec_w','kb'] )"
   ]
  },
  {
   "cell_type": "code",
   "execution_count": 60,
   "metadata": {},
   "outputs": [
    {
     "name": "stdout",
     "output_type": "stream",
     "text": [
      "              sum_sq     df         F    PR(>F)\n",
      "kb          0.383734    1.0  0.574589  0.448662\n",
      "Residual  539.616266  808.0       NaN       NaN\n",
      "              sum_sq     df         F    PR(>F)\n",
      "kb          2.417827    1.0  3.634057  0.056963\n",
      "Residual  537.582173  808.0       NaN       NaN\n"
     ]
    },
    {
     "data": {
      "image/png": "[encoded data removed]",
      "text/plain": [
       "<Figure size 216x288 with 1 Axes>"
      ]
     },
     "metadata": {
      "needs_background": "light"
     },
     "output_type": "display_data"
    }
   ],
   "source": [
    "fig = plt.figure()\n",
    "ax = fig.add_subplot(111)\n",
    "\n",
    "fig.set_figheight(4)\n",
    "fig.set_figwidth(3)\n",
    "\n",
    "var_of_interst = 'kb'\n",
    "\n",
    "\n",
    "mmd = log_pac.groupby(['density']).mean()[var_of_interst]\n",
    "mms = log_pac.groupby(['speed']).mean()[var_of_interst]\n",
    "\n",
    "ssd = log_pac.groupby(['density']).sem()[var_of_interst]\n",
    "sss = log_pac.groupby(['speed']).sem()[var_of_interst]\n",
    "\n",
    "plt.errorbar(  np.arange(3)-0.05, mms, yerr=sss, label='Speed', linewidth=3 )\n",
    "plt.errorbar(  np.arange(3)+0.05, mmd, yerr=ssd, label='Density', linewidth=3  )\n",
    "\n",
    "\n",
    "ax.spines['right'].set_visible(False)\n",
    "ax.spines['top'].set_visible(False)\n",
    "\n",
    "\n",
    "plt.sca(ax)\n",
    "plt.legend( frameon=False, loc='lower left')\n",
    "\n",
    "plt.ylabel('PAC (' + str(l_f_amp) +'-'+str(h_f_amp)+'Hz)'  , fontsize=16)\n",
    "plt.xlabel('Condition', fontsize=16)\n",
    "\n",
    "plt.xticks(range(3), ['Low','Med','High'])\n",
    "\n",
    "plt.tight_layout()\n",
    "# plt.savefig('../Figures/theta_dominant_freq_both.pdf')\n",
    "\n",
    "\n",
    "\n",
    "\n",
    "# plt.ylim(0.0015,0.003)\n",
    "\n",
    "new_blue   = '#1f77b4'\n",
    "new_orange = '#ff7f03'\n",
    "\n",
    "ym = plt.ylim()[1]*0.95\n",
    "\n",
    "cw_lm=ols('speed ~ ' + var_of_interst , data=log_pac).fit() #Specify C for Categorical\n",
    "print(sm.stats.anova_lm(cw_lm, typ=2))\n",
    "pval_str =   'p=' + str(np.round(sm.stats.anova_lm(cw_lm, typ=2)['PR(>F)']['kb'],4))\n",
    "plt.text( 0.4, ym, pval_str,  fontdict=dict(color=new_blue) )\n",
    "\n",
    "\n",
    "cw_lm=ols('density ~ ' + var_of_interst , data=log_pac).fit() #Specify C for Categorical\n",
    "print(sm.stats.anova_lm(cw_lm, typ=2))\n",
    "pval_str =   'p=' + str(np.round(sm.stats.anova_lm(cw_lm, typ=2)['PR(>F)']['kb'],4))\n",
    "plt.text( 0.4+1, ym, pval_str,  fontdict=dict(color=new_orange) )\n",
    "\n",
    "plt.tight_layout()\n",
    "# plt.savefig('../Figures/pac_condition.pdf')"
   ]
  },
  {
   "cell_type": "code",
   "execution_count": 61,
   "metadata": {},
   "outputs": [
    {
     "name": "stdout",
     "output_type": "stream",
     "text": [
      "Pearson:  (0.08744045896813613, 0.012791366941120656)\n",
      "              sum_sq     df         F    PR(>F)\n",
      "kb          5.564057    1.0  6.292737  0.012318\n",
      "Residual  714.435943  808.0       NaN       NaN\n"
     ]
    },
    {
     "data": {
      "image/png": "[encoded data removed]",
      "text/plain": [
       "<Figure size 216x288 with 1 Axes>"
      ]
     },
     "metadata": {},
     "output_type": "display_data"
    }
   ],
   "source": [
    "mmcs = log_pac.groupby(['cuesec_w']).median()[var_of_interst]\n",
    "sscs = log_pac.groupby(['cuesec_w']).sem()[var_of_interst]\n",
    "\n",
    "\n",
    "fig = plt.figure()\n",
    "ax = fig.add_subplot(111)\n",
    "fig.set_figheight(4)\n",
    "fig.set_figwidth(3)\n",
    "\n",
    "\n",
    "\n",
    "print( 'Pearson: ',  stats.pearsonr(log_pac.cuesec, log_pac[var_of_interst] ))\n",
    "cw_lm=ols('cuesec_w ~ ' + var_of_interst , data=log_pac).fit() #Specify C for Categorical\n",
    "print(sm.stats.anova_lm(cw_lm, typ=2))\n",
    "ym = sum(plt.ylim())/2.4\n",
    "pval_str =   'p=' + str(np.round(sm.stats.anova_lm(cw_lm, typ=2)['PR(>F)']['kb'],4))\n",
    "\n",
    "\n",
    "# ax.errorbar( uni, mmcs, yerr=sscs, linewidth=3 )\n",
    "ax.errorbar(  range(mmcs.size), mmcs, yerr=sscs, linewidth=3, label=pval_str )\n",
    "plt.legend(frameon=False, loc='best')\n",
    "\n",
    "fig.patch.set_facecolor('xkcd:white')\n",
    "ax.spines['right'].set_visible(False)\n",
    "ax.spines['top'].set_visible(False)\n",
    "plt.sca(ax)\n",
    "plt.ylabel('PAC (' + str(l_f_amp) +'-'+str(h_f_amp)+'Hz)'  , fontsize=16)\n",
    "plt.xlabel('Cues/sec level', fontsize=16)\n",
    "\n",
    "plt.ylim(0.0022,0.0055)\n",
    "plt.xticks(  range(mmcs.size), ['L','M-','M+','H'], fontsize=14 )\n",
    "plt.tight_layout()\n",
    "# plt.savefig('../Figures/pac_cuesec.pdf')"
   ]
  },
  {
   "cell_type": "code",
   "execution_count": 15,
   "metadata": {},
   "outputs": [
    {
     "name": "stdout",
     "output_type": "stream",
     "text": [
      "Pearson:  (0.021575706184464402, 0.5397583519343638)\n",
      "               sum_sq     df         F    PR(>F)\n",
      "kb           4.320066    1.0  0.376308  0.539758\n",
      "Residual  9275.944793  808.0       NaN       NaN\n"
     ]
    },
    {
     "data": {
      "image/png": "[encoded data removed]",
      "text/plain": [
       "<Figure size 360x288 with 1 Axes>"
      ]
     },
     "metadata": {},
     "output_type": "display_data"
    }
   ],
   "source": [
    "mmcs = log_pac.groupby(['cuesec_w']).mean()[var_of_interst]\n",
    "sscs = log_pac.groupby(['cuesec_w']).sem()[var_of_interst]\n",
    "\n",
    "\n",
    "fig = plt.figure()\n",
    "ax = fig.add_subplot(111)\n",
    "\n",
    "fig.set_figheight(4)\n",
    "fig.set_figwidth(5)\n",
    "\n",
    "\n",
    "# ax.errorbar( uni, mmcs, yerr=sscs, linewidth=3 )\n",
    "ax.errorbar(  range(mmcs.size), mmcs, yerr=sscs, linewidth=3 )\n",
    "\n",
    "# sns.violinplot(data=log_wel_all.groupby(['cuesec']),  palette=\"Set3\", bw=1.2, cut=2, linewidth=1 )\n",
    "\n",
    "\n",
    "fig.patch.set_facecolor('xkcd:white')\n",
    "\n",
    "ax.spines['right'].set_visible(False)\n",
    "ax.spines['top'].set_visible(False)\n",
    "\n",
    "\n",
    "plt.sca(ax)\n",
    "\n",
    "plt.ylabel('PAC', fontsize=16)\n",
    "plt.xlabel('Cues/sec level', fontsize=16)\n",
    "\n",
    "# plt.ylim(8,12)\n",
    "# plt.xticks(  range(mmcs.size), ['L','M-','M+','H'], fontsize=14 )\n",
    "\n",
    "# ax.yaxis.set_major_formatter(matplotlib.ticker.FormatStrFormatter('%.4f'))\n",
    "# ax.set_yscale(\"log\")\n",
    "\n",
    "\n",
    "\n",
    "print( 'Pearson: ',  stats.pearsonr(log_pac.cuesec, log_pac[var_of_interst] ))\n",
    "\n",
    "cw_lm=ols('cuesec ~ ' + var_of_interst , data=log_pac).fit() #Specify C for Categorical\n",
    "print(sm.stats.anova_lm(cw_lm, typ=2))\n",
    "\n",
    "ym = sum(plt.ylim())/3\n",
    "pval_str =   'p=' + str(np.round(sm.stats.anova_lm(cw_lm, typ=2)['PR(>F)']['kb'],4))\n",
    "plt.text( 3.5, ym, pval_str )\n",
    "\n",
    "# plt.savefig('../Figures/theta_dominant_freq_cues_per_sec.pdf')\n",
    "plt.tight_layout()\n",
    "# plt.savefig('../Figures/pac_cuesec.pdf')"
   ]
  },
  {
   "cell_type": "code",
   "execution_count": 16,
   "metadata": {},
   "outputs": [
    {
     "data": {
      "image/png": "[encoded data removed]",
      "text/plain": [
       "<Figure size 432x288 with 4 Axes>"
      ]
     },
     "metadata": {},
     "output_type": "display_data"
    }
   ],
   "source": [
    "sub = 4\n",
    "cc = 0\n",
    "\n",
    "tmp_amp = amp_phase[sub]['amp'][cc]\n",
    "tmp_phase = amp_phase[sub]['phase'][cc]\n",
    "\n",
    "idx_trials = trials_markers[sessions[sub]]\n",
    "\n",
    "\n",
    "\n",
    "fig = plt.figure()\n",
    "# ax = fig.add_subplot(111)\n",
    "fig.set_figheight(4)\n",
    "fig.set_figwidth(6)\n",
    "\n",
    "\n",
    "\n",
    "for trial in range(4):\n",
    "    \n",
    "\n",
    "    tmp_tmp_amp = tmp_amp[ idx_trials[trial] + trial_begin : idx_trials[trial] + trial_end ]\n",
    "    tmp_tmp_phase = tmp_phase[ idx_trials[trial] + trial_begin : idx_trials[trial] + trial_end ]\n",
    "\n",
    "    bs = binned_statistic(tmp_tmp_phase,tmp_tmp_amp,bins=20)\n",
    "    kb = calculate_KB(bs)\n",
    "    \n",
    "    \n",
    "    \n",
    "    ax = plt.subplot(2,2,trial+1)\n",
    "    plt.bar(  bs[1][:-1]/np.pi , bs[0] , width=0.05, color='grey' )\n",
    "    plt.bar(  (bs[1][:-1] + np.pi*2)/np.pi , bs[0] , width=0.05, color='grey' )\n",
    "    ax.xaxis.set_major_formatter(matplotlib.ticker.FormatStrFormatter('%g $\\pi$'))\n",
    "    plt.xticks(fontsize=14)\n",
    "    plt.yticks(fontsize=14)\n",
    "\n",
    "\n",
    "    ax.spines['right'].set_visible(False)\n",
    "    ax.spines['top'].set_visible(False)\n",
    "    plt.title(np.round(kb,3))\n",
    "    plt.sca(ax)\n",
    "#     plt.ylabel('Amplitude (mV)', fontsize=14)\n",
    "#     plt.xlabel('Phase (radians)', fontsize=14)\n",
    "    \n",
    "    \n",
    "    \n",
    "fig.text(0.5, -0.04, '2-8Hz Theta phase (radians)', ha='center', fontsize=16)\n",
    "fig.text(-0.01, 0.5, '20-48Hz Amplitude (mV)', va='center', rotation='vertical', fontsize=16)\n",
    "\n",
    "\n",
    "fig.patch.set_facecolor('xkcd:white')\n",
    "plt.tight_layout()\n",
    "\n",
    "\n",
    "# plt.savefig('../Figures/pac_examples.pdf', bbox_inches='tight')"
   ]
  },
  {
   "cell_type": "markdown",
   "metadata": {},
   "source": [
    "# Ratio theta dominant frequency and theta-gamma PAC"
   ]
  },
  {
   "cell_type": "code",
   "execution_count": 62,
   "metadata": {},
   "outputs": [],
   "source": []
  },
  {
   "cell_type": "code",
   "execution_count": 150,
   "metadata": {},
   "outputs": [],
   "source": [
    "log_welch_dom_freq = np.load('../Results/log_welch_0_1500_4_28_15_2.npy',encoding='latin1')\n",
    "\n",
    "dom_freq = []\n",
    "\n",
    "for ss in range(len(log_welch_dom_freq)):\n",
    "    \n",
    "    for tt in range(len(log_welch_dom_freq[ss])):\n",
    "        \n",
    "        \n",
    "        cs = log_welch_dom_freq[ss][tt][3]\n",
    "        csw = np.argmin(np.abs(cs-np.linspace(2,14,4)))\n",
    "        dom_freq.append( [ ss, log_welch_dom_freq[ss][tt][1] , log_welch_dom_freq[ss][tt][2] , cs , csw, log_welch_dom_freq[ss][tt][4] ] )\n",
    "        \n",
    "        \n",
    "dom_freq = np.array(dom_freq)\n",
    "\n",
    "dom_freq = pd.DataFrame(dom_freq, columns=['sub','density','speed','cuesec', 'cuesec_w', 'freq'] )\n",
    "\n",
    "dom_freq['kb'] = log_pac['kb']  ## add pac data to this dataframe\n",
    "dom_freq['freq_kb_ratio'] =   dom_freq['freq']/dom_freq['kb']"
   ]
  },
  {
   "cell_type": "code",
   "execution_count": 151,
   "metadata": {},
   "outputs": [
    {
     "name": "stdout",
     "output_type": "stream",
     "text": [
      "Pearson:  (0.0914395082034596, 0.009218260280762688)\n",
      "             sum_sq     df         F    PR(>F)\n",
      "freq        5.63117    1.0  6.369238  0.011802\n",
      "Residual  714.36883  808.0       NaN       NaN\n"
     ]
    },
    {
     "data": {
      "text/plain": [
       "Text(0.5, 4.768856447688565, 'p=0.0118')"
      ]
     },
     "execution_count": 151,
     "metadata": {},
     "output_type": "execute_result"
    },
    {
     "data": {
      "image/png": "[encoded data removed]",
      "text/plain": [
       "<Figure size 216x288 with 1 Axes>"
      ]
     },
     "metadata": {},
     "output_type": "display_data"
    }
   ],
   "source": [
    "mmcs = dom_freq.groupby(['cuesec_w']).mean()['freq']\n",
    "sscs = dom_freq.groupby(['cuesec_w']).sem()['freq']\n",
    "\n",
    "\n",
    "fig = plt.figure()\n",
    "ax = fig.add_subplot(111)\n",
    "\n",
    "fig.set_figheight(4)\n",
    "fig.set_figwidth(3)\n",
    "\n",
    "\n",
    "# ax.errorbar( uni, mmcs, yerr=sscs, linewidth=3 )\n",
    "ax.errorbar( range(mmcs.size), mmcs, yerr=sscs, linewidth=3 )\n",
    "# ax.bar( range(mmcs.size), mmcs, yerr=sscs, color='grey' )\n",
    "\n",
    "# sns.violinplot(data=log_wel_all.groupby(['cuesec']),  palette=\"Set3\", bw=1.2, cut=2, linewidth=1 )\n",
    "\n",
    "\n",
    "fig.patch.set_facecolor('xkcd:white')\n",
    "ax.spines['right'].set_visible(False)\n",
    "ax.spines['top'].set_visible(False)\n",
    "\n",
    "\n",
    "plt.sca(ax)\n",
    "\n",
    "plt.ylabel(' Delta-Theta Frequency (Hz)', fontsize=14)\n",
    "plt.xlabel('Cues/sec level', fontsize=14)\n",
    "\n",
    "plt.xticks(  range(mmcs.size), ['L','M-','M+','H'], fontsize=14 )\n",
    "\n",
    "plt.tight_layout()\n",
    "\n",
    "\n",
    "plt.ylim(4.7,5.1)\n",
    "\n",
    "print( 'Pearson: ',  stats.pearsonr(dom_freq.cuesec, dom_freq.freq ))\n",
    "\n",
    "cw_lm=ols('cuesec_w ~ freq', data=dom_freq).fit() #Specify C for Categorical\n",
    "print(sm.stats.anova_lm(cw_lm, typ=2))\n",
    "\n",
    "\n",
    "ym = sum(plt.ylim())/2.055\n",
    "pval_str =   'p=' + str(np.round(sm.stats.anova_lm(cw_lm, typ=2)['PR(>F)']['freq'],4))\n",
    "plt.text( 0.5, ym, pval_str )\n",
    "\n",
    "\n"
   ]
  },
  {
   "cell_type": "code",
   "execution_count": 167,
   "metadata": {},
   "outputs": [
    {
     "name": "stdout",
     "output_type": "stream",
     "text": [
      "Pearson:  (0.0914395082034596, 0.009218260280762688)\n",
      "             sum_sq     df         F    PR(>F)\n",
      "freq        5.63117    1.0  6.369238  0.011802\n",
      "Residual  714.36883  808.0       NaN       NaN\n",
      "Pearson:  (0.0914395082034596, 0.009218260280762688)\n",
      "              sum_sq     df         F    PR(>F)\n",
      "kb          5.564057    1.0  6.292737  0.012318\n",
      "Residual  714.435943  808.0       NaN       NaN\n",
      "Pearson:  (0.0914395082034596, 0.009218260280762688)\n",
      "                  sum_sq     df         F    PR(>F)\n",
      "freq_kb_ratio    0.42275    1.0  0.474698  0.491032\n",
      "Residual       719.57725  808.0       NaN       NaN\n"
     ]
    },
    {
     "data": {
      "image/png": "[encoded data removed]",
      "text/plain": [
       "<Figure size 216x288 with 1 Axes>"
      ]
     },
     "metadata": {},
     "output_type": "display_data"
    },
    {
     "data": {
      "image/png": "[encoded data removed]",
      "text/plain": [
       "<Figure size 216x288 with 1 Axes>"
      ]
     },
     "metadata": {},
     "output_type": "display_data"
    },
    {
     "data": {
      "image/png": "[encoded data removed]",
      "text/plain": [
       "<Figure size 216x288 with 1 Axes>"
      ]
     },
     "metadata": {},
     "output_type": "display_data"
    }
   ],
   "source": [
    "for var_of_interst in ['freq', 'kb', 'freq_kb_ratio']:\n",
    "    mmcs = dom_freq.groupby(['cuesec_w']).mean()[var_of_interst]\n",
    "    sscs = dom_freq.groupby(['cuesec_w']).sem()[var_of_interst]\n",
    "\n",
    "\n",
    "\n",
    "    fig = plt.figure()\n",
    "    ax = fig.add_subplot(111)\n",
    "    fig.set_figheight(4)\n",
    "    fig.set_figwidth(3)\n",
    "\n",
    "\n",
    "    ax.errorbar( range(mmcs.size), mmcs, yerr=sscs, linewidth=3 )\n",
    "\n",
    "    fig.patch.set_facecolor('xkcd:white')\n",
    "    ax.spines['right'].set_visible(False)\n",
    "    ax.spines['top'].set_visible(False)\n",
    "    plt.sca(ax)\n",
    "    plt.ylabel(var_of_interst, fontsize=14)\n",
    "    plt.xlabel('Cues/sec level', fontsize=14)\n",
    "    plt.xticks(  range(mmcs.size), ['L','M-','M+','H'], fontsize=14 )\n",
    "    plt.tight_layout()\n",
    "\n",
    "\n",
    "    print( 'Pearson: ',  stats.pearsonr(dom_freq.cuesec, dom_freq.freq ))\n",
    "    cw_lm=ols('cuesec_w ~ '+ var_of_interst, data=dom_freq).fit() #Specify C for Categorical\n",
    "    print(sm.stats.anova_lm(cw_lm, typ=2))\n",
    "\n",
    "\n",
    "    ym = plt.ylim()[1]*0.98 #sum(plt.ylim())/2.01\n",
    "    pval_str =   'p=' + str(np.round(sm.stats.anova_lm(cw_lm, typ=2)['PR(>F)'][var_of_interst],4))\n",
    "    plt.text( 0.5, ym, pval_str )"
   ]
  },
  {
   "cell_type": "code",
   "execution_count": 101,
   "metadata": {},
   "outputs": [
    {
     "data": {
      "text/plain": [
       "(0.07816030125696524, 0.02611820833199536)"
      ]
     },
     "execution_count": 101,
     "metadata": {},
     "output_type": "execute_result"
    }
   ],
   "source": [
    "\n",
    "stats.pearsonr(dom_freq['kb'] , dom_freq['freq'] )"
   ]
  },
  {
   "cell_type": "code",
   "execution_count": 177,
   "metadata": {},
   "outputs": [],
   "source": [
    "# fig = plt.figure()\n",
    "# ax = fig.add_subplot(111)\n",
    "# fig.set_figheight(4)\n",
    "# fig.set_figwidth(6)\n",
    "\n",
    "dom_freq_np = dom_freq.to_numpy()\n",
    "\n",
    "tmp = []\n",
    "for sub in range(8):\n",
    "    tmp_tmp = [] \n",
    "    for cuesec in np.sort(np.unique(dom_freq_np[:,3])):\n",
    "#     for cuesec in range(9):\n",
    "        idx = np.where(  np.logical_and( dom_freq_np[:,0]==sub, dom_freq_np[:,3]==cuesec )   )\n",
    "        mmmm1 = np.mean( dom_freq_np[idx,5] )\n",
    "        mmmm2 = np.mean( dom_freq_np[idx,6] )\n",
    "\n",
    "        tmp_tmp.append( [mmmm1,mmmm2] )\n",
    "    tmp.append(tmp_tmp)\n",
    "tmp = np.array(tmp)\n",
    "\n",
    "\n",
    "# # plt.errorbar( uni, np.average(tmp,axis=0), stats.sem(tmp,axis=0), linewidth=3 )\n",
    "# plt.errorbar( range(4), np.average(tmp,axis=0), stats.sem(tmp,axis=0), linewidth=3 )\n",
    "# print( stats.pearsonr(np.tile(np.arange(4),8) , tmp.flatten() ) )\n",
    "\n",
    "    \n",
    "# fig.patch.set_facecolor('xkcd:white')\n",
    "# ax.spines['right'].set_visible(False)\n",
    "# ax.spines['top'].set_visible(False)\n",
    "# plt.xlabel('Condition', fontsize=16)\n",
    "# plt.ylabel('Dominant frequency', fontsize=16)\n",
    "# # plt.xticks(range(3), ['Low','Med','High'])"
   ]
  },
  {
   "cell_type": "code",
   "execution_count": 175,
   "metadata": {},
   "outputs": [
    {
     "data": {
      "text/html": [
       "<div>\n",
       "<style scoped>\n",
       "    .dataframe tbody tr th:only-of-type {\n",
       "        vertical-align: middle;\n",
       "    }\n",
       "\n",
       "    .dataframe tbody tr th {\n",
       "        vertical-align: top;\n",
       "    }\n",
       "\n",
       "    .dataframe thead th {\n",
       "        text-align: right;\n",
       "    }\n",
       "</style>\n",
       "<table border=\"1\" class=\"dataframe\">\n",
       "  <thead>\n",
       "    <tr style=\"text-align: right;\">\n",
       "      <th></th>\n",
       "      <th>sub</th>\n",
       "      <th>density</th>\n",
       "      <th>speed</th>\n",
       "      <th>cuesec</th>\n",
       "      <th>cuesec_w</th>\n",
       "      <th>freq</th>\n",
       "      <th>kb</th>\n",
       "      <th>freq_kb_ratio</th>\n",
       "    </tr>\n",
       "  </thead>\n",
       "  <tbody>\n",
       "    <tr>\n",
       "      <th>0</th>\n",
       "      <td>0.0</td>\n",
       "      <td>0.0</td>\n",
       "      <td>0.0</td>\n",
       "      <td>2.762431</td>\n",
       "      <td>0.0</td>\n",
       "      <td>4.778667</td>\n",
       "      <td>0.011232</td>\n",
       "      <td>425.452719</td>\n",
       "    </tr>\n",
       "    <tr>\n",
       "      <th>1</th>\n",
       "      <td>0.0</td>\n",
       "      <td>0.0</td>\n",
       "      <td>1.0</td>\n",
       "      <td>3.703704</td>\n",
       "      <td>0.0</td>\n",
       "      <td>4.437333</td>\n",
       "      <td>0.001110</td>\n",
       "      <td>3999.079509</td>\n",
       "    </tr>\n",
       "    <tr>\n",
       "      <th>2</th>\n",
       "      <td>0.0</td>\n",
       "      <td>0.0</td>\n",
       "      <td>2.0</td>\n",
       "      <td>4.545455</td>\n",
       "      <td>1.0</td>\n",
       "      <td>4.778667</td>\n",
       "      <td>0.003496</td>\n",
       "      <td>1366.837113</td>\n",
       "    </tr>\n",
       "    <tr>\n",
       "      <th>3</th>\n",
       "      <td>0.0</td>\n",
       "      <td>1.0</td>\n",
       "      <td>0.0</td>\n",
       "      <td>5.524862</td>\n",
       "      <td>1.0</td>\n",
       "      <td>4.778667</td>\n",
       "      <td>0.001992</td>\n",
       "      <td>2398.668197</td>\n",
       "    </tr>\n",
       "    <tr>\n",
       "      <th>4</th>\n",
       "      <td>0.0</td>\n",
       "      <td>1.0</td>\n",
       "      <td>1.0</td>\n",
       "      <td>7.407407</td>\n",
       "      <td>1.0</td>\n",
       "      <td>4.778667</td>\n",
       "      <td>0.002134</td>\n",
       "      <td>2239.710401</td>\n",
       "    </tr>\n",
       "  </tbody>\n",
       "</table>\n",
       "</div>"
      ],
      "text/plain": [
       "   sub  density  speed    cuesec  cuesec_w      freq        kb  freq_kb_ratio\n",
       "0  0.0      0.0    0.0  2.762431       0.0  4.778667  0.011232     425.452719\n",
       "1  0.0      0.0    1.0  3.703704       0.0  4.437333  0.001110    3999.079509\n",
       "2  0.0      0.0    2.0  4.545455       1.0  4.778667  0.003496    1366.837113\n",
       "3  0.0      1.0    0.0  5.524862       1.0  4.778667  0.001992    2398.668197\n",
       "4  0.0      1.0    1.0  7.407407       1.0  4.778667  0.002134    2239.710401"
      ]
     },
     "execution_count": 175,
     "metadata": {},
     "output_type": "execute_result"
    }
   ],
   "source": [
    "dom_freq.head()"
   ]
  },
  {
   "cell_type": "code",
   "execution_count": 178,
   "metadata": {},
   "outputs": [
    {
     "data": {
      "image/png": "[encoded data removed]",
      "text/plain": [
       "<Figure size 432x288 with 1 Axes>"
      ]
     },
     "metadata": {
      "needs_background": "light"
     },
     "output_type": "display_data"
    }
   ],
   "source": [
    "for sub in range(tmp.shape[0]):\n",
    "#     tmp[sub] = stats.zscore(tmp[sub],axis=1)\n",
    "    for cond in range(tmp[sub].shape[0]):\n",
    "        plt.plot(tmp[sub][cond][0],tmp[sub][cond][1], 'o')"
   ]
  },
  {
   "cell_type": "code",
   "execution_count": 180,
   "metadata": {},
   "outputs": [
    {
     "data": {
      "text/plain": [
       "(0.16162435637856643, 0.17498378815641)"
      ]
     },
     "execution_count": 180,
     "metadata": {},
     "output_type": "execute_result"
    }
   ],
   "source": [
    "stats.pearsonr(tmp.reshape((8*9,2))[:,0], tmp.reshape((8*9,2))[:,1])"
   ]
  },
  {
   "cell_type": "code",
   "execution_count": 181,
   "metadata": {},
   "outputs": [
    {
     "name": "stdout",
     "output_type": "stream",
     "text": [
      "(0.027919087911830655, 0.7742475246441987)\n",
      "(0.4404851492738993, 1.8363286726937144e-06)\n",
      "(-0.06220330706746804, 0.5224759713107816)\n",
      "(-0.14012847718320234, 0.14804827484690983)\n",
      "(0.11933479466699544, 0.21864693576328392)\n",
      "(0.06580239381987651, 0.49865017902851394)\n",
      "(-0.13391634523382293, 0.16705223092712027)\n",
      "(-0.1564954243581554, 0.25844552765025486)\n"
     ]
    }
   ],
   "source": [
    "for sub in range(8):\n",
    "    idx = np.where( dom_freq_np[:,0]==sub )[0]\n",
    "    print(   stats.pearsonr(  dom_freq_np[idx,5], dom_freq_np[idx,6] )  )"
   ]
  },
  {
   "cell_type": "markdown",
   "metadata": {},
   "source": [
    "# Count Gamma events"
   ]
  },
  {
   "cell_type": "code",
   "execution_count": 216,
   "metadata": {},
   "outputs": [
    {
     "name": "stdout",
     "output_type": "stream",
     "text": [
      "Setting up band-stop filter\n",
      "Filter length of 3379 samples (6.600 sec) selected\n",
      "Creating RawArray with float64 data, n_channels=1, n_times=205501\n",
      "    Range : 0 ... 205500 =      0.000 ...   401.367 secs\n",
      "Ready.\n",
      "Setting up band-pass filter from 55 - 95 Hz\n",
      "Filter length of 845 samples (1.650 sec) selected\n",
      "Creating RawArray with float64 data, n_channels=1, n_times=205501\n",
      "    Range : 0 ... 205500 =      0.000 ...   401.367 secs\n",
      "Ready.\n",
      "Setting up band-pass filter from 2 - 8 Hz\n",
      "Filter length of 845 samples (1.650 sec) selected\n",
      "Creating RawArray with float64 data, n_channels=1, n_times=205501\n",
      "    Range : 0 ... 205500 =      0.000 ...   401.367 secs\n",
      "Ready.\n",
      "Setting up band-pass filter from 55 - 95 Hz\n",
      "Filter length of 845 samples (1.650 sec) selected\n"
     ]
    }
   ],
   "source": [
    "low_amp_freq,high_amp_freq = 55,95\n",
    "\n",
    "sub = 5\n",
    "    \n",
    "### Load this session dataset\n",
    "lfp = loadmat('../Data/'+sessions[sub]+'.mat')\n",
    "lfp = lfp['ourData']\n",
    "\n",
    "    \n",
    "    \n",
    "cc =  hpc_electrodes[sub][0]\n",
    "        \n",
    "\n",
    "tmp_lfp = lfp[cc]         \n",
    "\n",
    "tmp_lfp_notch = mne.filter.notch_filter( np.float64(tmp_lfp), fs, [50,100,150,200], notch_widths=20 )\n",
    "\n",
    "gamma_amp   = hilbert_transform_get_component(tmp_lfp_notch, fs, low_amp_freq,high_amp_freq, 'amplitude')\n",
    "theta_phase = hilbert_transform_get_component(tmp_lfp_notch, fs, 2,8, 'phase')\n",
    "gamma_phase = hilbert_transform_get_component(tmp_lfp_notch, fs, low_amp_freq,high_amp_freq, 'phase')"
   ]
  },
  {
   "cell_type": "code",
   "execution_count": 219,
   "metadata": {},
   "outputs": [
    {
     "data": {
      "text/plain": [
       "[<matplotlib.lines.Line2D at 0x1242b3358>]"
      ]
     },
     "execution_count": 219,
     "metadata": {},
     "output_type": "execute_result"
    },
    {
     "data": {
      "image/png": "[encoded data removed]",
      "text/plain": [
       "<Figure size 432x288 with 1 Axes>"
      ]
     },
     "metadata": {
      "needs_background": "light"
     },
     "output_type": "display_data"
    }
   ],
   "source": [
    "plt.plot(gamma_amp[15000:17000])"
   ]
  },
  {
   "cell_type": "code",
   "execution_count": 220,
   "metadata": {},
   "outputs": [
    {
     "data": {
      "text/plain": [
       "[<matplotlib.lines.Line2D at 0x12ae66fd0>]"
      ]
     },
     "execution_count": 220,
     "metadata": {},
     "output_type": "execute_result"
    },
    {
     "data": {
      "image/png": "[encoded data removed]",
      "text/plain": [
       "<Figure size 432x288 with 1 Axes>"
      ]
     },
     "metadata": {
      "needs_background": "light"
     },
     "output_type": "display_data"
    }
   ],
   "source": [
    "plt.plot(theta_phase[15000:17000])"
   ]
  },
  {
   "cell_type": "code",
   "execution_count": 221,
   "metadata": {},
   "outputs": [
    {
     "data": {
      "text/plain": [
       "[<matplotlib.lines.Line2D at 0x11eed1dd8>]"
      ]
     },
     "execution_count": 221,
     "metadata": {},
     "output_type": "execute_result"
    },
    {
     "data": {
      "image/png": "[encoded data removed]",
      "text/plain": [
       "<Figure size 432x288 with 1 Axes>"
      ]
     },
     "metadata": {
      "needs_background": "light"
     },
     "output_type": "display_data"
    }
   ],
   "source": [
    "plt.plot(gamma_phase[15000:15200])\n",
    "plt.plot(theta_phase[15000:15200])"
   ]
  },
  {
   "cell_type": "code",
   "execution_count": 217,
   "metadata": {},
   "outputs": [
    {
     "name": "stdout",
     "output_type": "stream",
     "text": [
      "    Using multitaper spectrum estimation with 7 DPSS windows\n"
     ]
    }
   ],
   "source": [
    "psd = mne.time_frequency.psd_array_multitaper(tmp_lfp, fs)"
   ]
  },
  {
   "cell_type": "code",
   "execution_count": 218,
   "metadata": {},
   "outputs": [
    {
     "data": {
      "text/plain": [
       "[<matplotlib.lines.Line2D at 0x1201a0e48>]"
      ]
     },
     "execution_count": 218,
     "metadata": {},
     "output_type": "execute_result"
    },
    {
     "data": {
      "image/png": "[encoded data removed]",
      "text/plain": [
       "<Figure size 432x288 with 1 Axes>"
      ]
     },
     "metadata": {
      "needs_background": "light"
     },
     "output_type": "display_data"
    }
   ],
   "source": [
    "plt.plot(psd[1],psd[0])\n",
    "# plt.xlim(0,30)"
   ]
  },
  {
   "cell_type": "code",
   "execution_count": 222,
   "metadata": {},
   "outputs": [
    {
     "data": {
      "text/plain": [
       "['Eugeni_s2',\n",
       " 'Eugeni_s3',\n",
       " 'JCQ_s1',\n",
       " 'JCQ_s2',\n",
       " 'JS_s1',\n",
       " 'JS_s2',\n",
       " 'JS_s3',\n",
       " 'MRI_s2']"
      ]
     },
     "execution_count": 222,
     "metadata": {},
     "output_type": "execute_result"
    }
   ],
   "source": [
    "sessions"
   ]
  },
  {
   "cell_type": "code",
   "execution_count": 272,
   "metadata": {},
   "outputs": [],
   "source": [
    "lfp_d = loadmat('../Data/controls/A_NA_monopolar.mat')\n",
    "# lfp_d = lfp_d['A_NA'][0,0][0]"
   ]
  },
  {
   "cell_type": "code",
   "execution_count": 277,
   "metadata": {},
   "outputs": [
    {
     "data": {
      "text/plain": [
       "[<matplotlib.lines.Line2D at 0x153f2a908>]"
      ]
     },
     "execution_count": 277,
     "metadata": {},
     "output_type": "execute_result"
    },
    {
     "data": {
      "image/png": "[encoded data removed]",
      "text/plain": [
       "<Figure size 432x288 with 1 Axes>"
      ]
     },
     "metadata": {
      "needs_background": "light"
     },
     "output_type": "display_data"
    }
   ],
   "source": [
    "# plt.plot(lfp_d['A_NA'][0,0][0][:10000])\n",
    "plt.plot(lfp_d['A_NA'][0,0][0][:1000])"
   ]
  },
  {
   "cell_type": "code",
   "execution_count": 289,
   "metadata": {},
   "outputs": [
    {
     "name": "stdout",
     "output_type": "stream",
     "text": [
      "Effective window size : 0.500 (s)\n"
     ]
    }
   ],
   "source": [
    "psd = mne.time_frequency.psd_array_welch(lfp_d['A_NA'][0,3][0], fs)"
   ]
  },
  {
   "cell_type": "code",
   "execution_count": 290,
   "metadata": {},
   "outputs": [
    {
     "data": {
      "text/plain": [
       "[<matplotlib.lines.Line2D at 0x1547cb2e8>]"
      ]
     },
     "execution_count": 290,
     "metadata": {},
     "output_type": "execute_result"
    },
    {
     "data": {
      "image/png": "[encoded data removed]",
      "text/plain": [
       "<Figure size 432x288 with 1 Axes>"
      ]
     },
     "metadata": {
      "needs_background": "light"
     },
     "output_type": "display_data"
    }
   ],
   "source": [
    "plt.plot(psd[1],psd[0])"
   ]
  },
  {
   "cell_type": "code",
   "execution_count": 249,
   "metadata": {},
   "outputs": [
    {
     "data": {
      "text/plain": [
       "['Eugeni_s2',\n",
       " 'Eugeni_s3',\n",
       " 'JCQ_s1',\n",
       " 'JCQ_s2',\n",
       " 'JS_s1',\n",
       " 'JS_s2',\n",
       " 'JS_s3',\n",
       " 'MRI_s2']"
      ]
     },
     "execution_count": 249,
     "metadata": {},
     "output_type": "execute_result"
    }
   ],
   "source": [
    "sessions"
   ]
  },
  {
   "cell_type": "code",
   "execution_count": 19,
   "metadata": {},
   "outputs": [],
   "source": [
    "def preoper(x, threshold=0.001):\n",
    "    \"\"\"Threshold the TTL signal\"\"\"\n",
    "    x[x<threshold] = 0\n",
    "    x[x>threshold] = 1\n",
    "    return x\n",
    "\n",
    "def abs_events(x):\n",
    "    \"\"\"Determine events onset/offset\"\"\"\n",
    "    out = np.diff(np.abs(np.hstack((x, x[-1]))))\n",
    "    out[out<0] = 0\n",
    "    return out \n",
    "\n",
    "def invert_polarity(x):\n",
    "    out = -x\n",
    "    return out"
   ]
  },
  {
   "cell_type": "code",
   "execution_count": 57,
   "metadata": {},
   "outputs": [
    {
     "data": {
      "text/plain": [
       "{0: {'subject': 0,\n",
       "  'filename': '/Volumes/Elements/normaliser_edf_data/14_04_16.edf',\n",
       "  'start': 140000,\n",
       "  'end': 350000,\n",
       "  'ttl': 120},\n",
       " 1: {'subject': 0,\n",
       "  'filename': '/Volumes/Elements/normaliser_edf_data/18_04_16.edf',\n",
       "  'start': 350000,\n",
       "  'end': 560000,\n",
       "  'ttl': 120},\n",
       " 2: {'subject': 0,\n",
       "  'filename': '/Volumes/Elements/normaliser_edf_data/20_04_16.edf',\n",
       "  'start': 950000,\n",
       "  'end': 1155000,\n",
       "  'ttl': 120},\n",
       " 3: {'subject': 1,\n",
       "  'filename': '/Volumes/Elements/normaliser_edf_data/030416.edf',\n",
       "  'start': 2300000,\n",
       "  'end': 2520000,\n",
       "  'ttl': 125},\n",
       " 4: {'subject': 1,\n",
       "  'filename': '/Volumes/Elements/normaliser_edf_data/040416.edf',\n",
       "  'start': 50000,\n",
       "  'end': 255000,\n",
       "  'ttl': 125},\n",
       " 5: {'subject': 2,\n",
       "  'filename': '/Volumes/Elements/normaliser_edf_data/CQJ0.edf',\n",
       "  'start': 2300000,\n",
       "  'end': 2520000,\n",
       "  'ttl': 125},\n",
       " 6: {'subject': 3,\n",
       "  'filename': '/Volumes/Elements/normaliser_edf_data/eugeni_090716.edf',\n",
       "  'start': 151000,\n",
       "  'end': 342000,\n",
       "  'ttl': 123},\n",
       " 7: {'subject': 3,\n",
       "  'filename': '/Volumes/Elements/normaliser_edf_data/eugeni_110716.edf',\n",
       "  'start': 153000,\n",
       "  'end': 363000,\n",
       "  'ttl': 123},\n",
       " 8: {'subject': 3,\n",
       "  'filename': '/Volumes/Elements/normaliser_edf_data/eugeni_120716.edf',\n",
       "  'start': 40000,\n",
       "  'end': 250000,\n",
       "  'ttl': 123},\n",
       " 9: {'subject': 4,\n",
       "  'filename': '/Volumes/Elements/normaliser_edf_data/Ines_250716.edf',\n",
       "  'start': 510000,\n",
       "  'end': 730000,\n",
       "  'ttl': 126},\n",
       " 10: {'subject': 5,\n",
       "  'filename': '/Volumes/Elements/normaliser_edf_data/RUSINYOLGONZAL_e8f174b6-637d-408f-8a31-d1fa66559943.edf',\n",
       "  'start': 40000,\n",
       "  'end': 250000,\n",
       "  'ttl': 123}}"
      ]
     },
     "execution_count": 57,
     "metadata": {},
     "output_type": "execute_result"
    }
   ],
   "source": [
    "edf_struct"
   ]
  },
  {
   "cell_type": "code",
   "execution_count": 59,
   "metadata": {
    "scrolled": true
   },
   "outputs": [
    {
     "name": "stdout",
     "output_type": "stream",
     "text": [
      "Extracting EDF parameters from /Volumes/Elements/normaliser_edf_data/BLASCOBLANCO_NORMALIZER.edf...\n",
      "EDF file detected\n",
      "Setting channel info structure...\n",
      "Creating raw.info structure...\n"
     ]
    },
    {
     "name": "stderr",
     "output_type": "stream",
     "text": [
      "<ipython-input-59-e59a10c65e10>:2: RuntimeWarning: Number of records from the header does not match the file size (perhaps the recording was not stopped before exiting). Inferring from the file size.\n",
      "  raw = mne.io.read_raw_edf(filename, preload=False)\n"
     ]
    }
   ],
   "source": [
    "filename = '/Volumes/Elements/normaliser_edf_data/BLASCOBLANCO_NORMALIZER.edf'\n",
    "raw = mne.io.read_raw_edf(filename, preload=False)"
   ]
  },
  {
   "cell_type": "code",
   "execution_count": 43,
   "metadata": {},
   "outputs": [
    {
     "name": "stdout",
     "output_type": "stream",
     "text": [
      "120\n"
     ]
    }
   ],
   "source": [
    "TTL_ch = None\n",
    "TTL_ch_name = 'TTL'\n",
    "for ii in range(len(raw.info['ch_names'])):\n",
    "    if raw.info['ch_names'][ii] == TTL_ch_name: TTL_ch = ii\n",
    "print(TTL_ch)"
   ]
  },
  {
   "cell_type": "code",
   "execution_count": 13,
   "metadata": {},
   "outputs": [],
   "source": [
    "raw_data = raw.get_data(picks=[TTL_ch] )\n",
    "raw_data = raw_data[0]"
   ]
  },
  {
   "cell_type": "code",
   "execution_count": 517,
   "metadata": {},
   "outputs": [
    {
     "name": "stdout",
     "output_type": "stream",
     "text": [
      "Setting up band-stop filter\n",
      "Filter length of 3301 samples (6.602 sec) selected\n"
     ]
    }
   ],
   "source": [
    "raw_data = mne.filter.notch_filter(raw_data, raw.info['sfreq'], [50,100,150,200], notch_widths=2)"
   ]
  },
  {
   "cell_type": "code",
   "execution_count": 15,
   "metadata": {},
   "outputs": [
    {
     "name": "stdout",
     "output_type": "stream",
     "text": [
      "Using matplotlib backend: TkAgg\n"
     ]
    },
    {
     "data": {
      "text/plain": [
       "[<matplotlib.lines.Line2D at 0x10255f860>]"
      ]
     },
     "execution_count": 15,
     "metadata": {},
     "output_type": "execute_result"
    }
   ],
   "source": [
    "%matplotlib\n",
    "\n",
    "# ii = 0\n",
    "# sss = int(raw_data.shape[0]/10 * ii)\n",
    "# eee = int(raw_data.shape[0]/10 * (ii+1))\n",
    "# plt.plot(raw_data_notched[ sss:eee ])\n",
    "\n",
    "plt.plot(raw_data)"
   ]
  },
  {
   "cell_type": "code",
   "execution_count": 487,
   "metadata": {},
   "outputs": [
    {
     "data": {
      "text/plain": [
       "(2158184,)"
      ]
     },
     "execution_count": 487,
     "metadata": {},
     "output_type": "execute_result"
    }
   ],
   "source": [
    "raw_data.shape"
   ]
  },
  {
   "cell_type": "code",
   "execution_count": 44,
   "metadata": {},
   "outputs": [],
   "source": [
    "ev = mne.find_events(raw, stim_channel=TTL_ch_name, output='onset', \n",
    "                     initial_event=True, shortest_event=1/raw.info['sfreq'])\n"
   ]
  },
  {
   "cell_type": "code",
   "execution_count": 477,
   "metadata": {},
   "outputs": [
    {
     "data": {
      "text/plain": [
       "[<matplotlib.lines.Line2D at 0x258043198>]"
      ]
     },
     "execution_count": 477,
     "metadata": {},
     "output_type": "execute_result"
    }
   ],
   "source": [
    "plt.plot(raw_data[0])"
   ]
  },
  {
   "cell_type": "code",
   "execution_count": 73,
   "metadata": {},
   "outputs": [
    {
     "ename": "RuntimeError",
     "evalue": "By default, MNE does not load data into main memory to conserve resources. raw.apply_function requires raw data to be loaded. Use preload=True (or string) in the constructor or raw.load_data().",
     "output_type": "error",
     "traceback": [
      "\u001b[0;31m---------------------------------------------------------------------------\u001b[0m",
      "\u001b[0;31mRuntimeError\u001b[0m                              Traceback (most recent call last)",
      "\u001b[0;32m<ipython-input-73-cdde6dd09e04>\u001b[0m in \u001b[0;36m<module>\u001b[0;34m\u001b[0m\n\u001b[0;32m----> 1\u001b[0;31m \u001b[0mraw\u001b[0m\u001b[0;34m.\u001b[0m\u001b[0mapply_function\u001b[0m\u001b[0;34m(\u001b[0m\u001b[0mpreoper\u001b[0m\u001b[0;34m,\u001b[0m \u001b[0mpicks\u001b[0m\u001b[0;34m=\u001b[0m\u001b[0;34m[\u001b[0m\u001b[0mTTL_ch\u001b[0m\u001b[0;34m]\u001b[0m\u001b[0;34m)\u001b[0m\u001b[0;34m\u001b[0m\u001b[0m\n\u001b[0m\u001b[1;32m      2\u001b[0m \u001b[0mraw\u001b[0m\u001b[0;34m.\u001b[0m\u001b[0mapply_function\u001b[0m\u001b[0;34m(\u001b[0m\u001b[0mabs_events\u001b[0m\u001b[0;34m,\u001b[0m \u001b[0mpicks\u001b[0m\u001b[0;34m=\u001b[0m\u001b[0;34m[\u001b[0m\u001b[0mTTL_ch\u001b[0m\u001b[0;34m]\u001b[0m\u001b[0;34m)\u001b[0m\u001b[0;34m\u001b[0m\u001b[0m\n",
      "\u001b[0;32m/Library/Frameworks/Python.framework/Versions/3.7/lib/python3.7/site-packages/mne/io/base.py\u001b[0m in \u001b[0;36mapply_function\u001b[0;34m(self, fun, picks, dtype, n_jobs, *args, **kwargs)\u001b[0m\n",
      "\u001b[0;32m/Library/Frameworks/Python.framework/Versions/3.7/lib/python3.7/site-packages/mne/utils.py\u001b[0m in \u001b[0;36mverbose\u001b[0;34m(function, *args, **kwargs)\u001b[0m\n\u001b[1;32m    950\u001b[0m         \u001b[0;32mwith\u001b[0m \u001b[0muse_log_level\u001b[0m\u001b[0;34m(\u001b[0m\u001b[0mverbose_level\u001b[0m\u001b[0;34m)\u001b[0m\u001b[0;34m:\u001b[0m\u001b[0;34m\u001b[0m\u001b[0m\n\u001b[1;32m    951\u001b[0m             \u001b[0;32mreturn\u001b[0m \u001b[0mfunction\u001b[0m\u001b[0;34m(\u001b[0m\u001b[0;34m*\u001b[0m\u001b[0margs\u001b[0m\u001b[0;34m,\u001b[0m \u001b[0;34m**\u001b[0m\u001b[0mkwargs\u001b[0m\u001b[0;34m)\u001b[0m\u001b[0;34m\u001b[0m\u001b[0m\n\u001b[0;32m--> 952\u001b[0;31m     \u001b[0;32mreturn\u001b[0m \u001b[0mfunction\u001b[0m\u001b[0;34m(\u001b[0m\u001b[0;34m*\u001b[0m\u001b[0margs\u001b[0m\u001b[0;34m,\u001b[0m \u001b[0;34m**\u001b[0m\u001b[0mkwargs\u001b[0m\u001b[0;34m)\u001b[0m\u001b[0;34m\u001b[0m\u001b[0m\n\u001b[0m\u001b[1;32m    953\u001b[0m \u001b[0;34m\u001b[0m\u001b[0m\n\u001b[1;32m    954\u001b[0m \u001b[0;34m\u001b[0m\u001b[0m\n",
      "\u001b[0;32m/Library/Frameworks/Python.framework/Versions/3.7/lib/python3.7/site-packages/mne/io/base.py\u001b[0m in \u001b[0;36mapply_function\u001b[0;34m(self, fun, picks, dtype, n_jobs, *args, **kwargs)\u001b[0m\n\u001b[1;32m   1085\u001b[0m             \u001b[0mThe\u001b[0m \u001b[0mraw\u001b[0m \u001b[0mobject\u001b[0m \u001b[0;32mwith\u001b[0m \u001b[0mtransformed\u001b[0m \u001b[0mdata\u001b[0m\u001b[0;34m.\u001b[0m\u001b[0;34m\u001b[0m\u001b[0m\n\u001b[1;32m   1086\u001b[0m         \"\"\"\n\u001b[0;32m-> 1087\u001b[0;31m         \u001b[0m_check_preload\u001b[0m\u001b[0;34m(\u001b[0m\u001b[0mself\u001b[0m\u001b[0;34m,\u001b[0m \u001b[0;34m'raw.apply_function'\u001b[0m\u001b[0;34m)\u001b[0m\u001b[0;34m\u001b[0m\u001b[0m\n\u001b[0m\u001b[1;32m   1088\u001b[0m         \u001b[0;32mif\u001b[0m \u001b[0mpicks\u001b[0m \u001b[0;32mis\u001b[0m \u001b[0;32mNone\u001b[0m\u001b[0;34m:\u001b[0m\u001b[0;34m\u001b[0m\u001b[0m\n\u001b[1;32m   1089\u001b[0m             picks = _pick_data_channels(self.info, exclude=[],\n",
      "\u001b[0;32m/Library/Frameworks/Python.framework/Versions/3.7/lib/python3.7/site-packages/mne/utils.py\u001b[0m in \u001b[0;36m_check_preload\u001b[0;34m(inst, msg)\u001b[0m\n\u001b[1;32m   2473\u001b[0m                 \u001b[0;34m\"conserve resources. \"\u001b[0m \u001b[0;34m+\u001b[0m \u001b[0mmsg\u001b[0m \u001b[0;34m+\u001b[0m \u001b[0;34m' requires %s data to be '\u001b[0m\u001b[0;34m\u001b[0m\u001b[0m\n\u001b[1;32m   2474\u001b[0m                 \u001b[0;34m'loaded. Use preload=True (or string) in the constructor or '\u001b[0m\u001b[0;34m\u001b[0m\u001b[0m\n\u001b[0;32m-> 2475\u001b[0;31m                 '%s.load_data().' % (name, name))\n\u001b[0m\u001b[1;32m   2476\u001b[0m \u001b[0;34m\u001b[0m\u001b[0m\n\u001b[1;32m   2477\u001b[0m \u001b[0;34m\u001b[0m\u001b[0m\n",
      "\u001b[0;31mRuntimeError\u001b[0m: By default, MNE does not load data into main memory to conserve resources. raw.apply_function requires raw data to be loaded. Use preload=True (or string) in the constructor or raw.load_data()."
     ]
    }
   ],
   "source": [
    "raw.apply_function(preoper, picks=[TTL_ch])\n",
    "raw.apply_function(abs_events, picks=[TTL_ch])"
   ]
  },
  {
   "cell_type": "code",
   "execution_count": 37,
   "metadata": {},
   "outputs": [],
   "source": [
    "ev = mne.find_events(raw, stim_channel=TTL_ch_name, output='onset')\n"
   ]
  },
  {
   "cell_type": "code",
   "execution_count": 78,
   "metadata": {},
   "outputs": [],
   "source": [
    "raw_data = raw.get_data()"
   ]
  },
  {
   "cell_type": "code",
   "execution_count": 91,
   "metadata": {},
   "outputs": [
    {
     "data": {
      "text/plain": [
       "[<matplotlib.lines.Line2D at 0x35ca127b8>]"
      ]
     },
     "execution_count": 91,
     "metadata": {},
     "output_type": "execute_result"
    },
    {
     "data": {
      "image/png": "[encoded data removed]",
      "text/plain": [
       "<Figure size 432x288 with 1 Axes>"
      ]
     },
     "metadata": {
      "needs_background": "light"
     },
     "output_type": "display_data"
    }
   ],
   "source": [
    "plt.plot(raw_data[50][1000:20000])\n",
    "# np.where(raw_data[0]>0)"
   ]
  }
 ],
 "metadata": {
  "kernelspec": {
   "display_name": "Python 3",
   "language": "python",
   "name": "python3"
  },
  "language_info": {
   "codemirror_mode": {
    "name": "ipython",
    "version": 3
   },
   "file_extension": ".py",
   "mimetype": "text/x-python",
   "name": "python",
   "nbconvert_exporter": "python",
   "pygments_lexer": "ipython3",
   "version": "3.7.0"
  }
 },
 "nbformat": 4,
 "nbformat_minor": 2
}
